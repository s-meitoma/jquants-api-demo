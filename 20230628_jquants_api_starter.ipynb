{
  "nbformat": 4,
  "nbformat_minor": 0,
  "metadata": {
    "colab": {
      "provenance": [],
      "collapsed_sections": [
        "ZOgNFJtEY1g9",
        "vf6qvLBOhbTJ",
        "in1t1GGTXHx7",
        "IOurY_o-Y9Cl",
        "9Ox2YvyjY_p8",
        "tnIOKgSdX0GV",
        "SDyo1lqF1RV0",
        "nXzXQx-LQNP4",
        "ECuvXWrtcqiB"
      ]
    },
    "kernelspec": {
      "name": "python3",
      "display_name": "Python 3"
    },
    "language_info": {
      "name": "python"
    }
  },
  "cells": [
    {
      "cell_type": "markdown",
      "source": [
        "# J-QuantsAPIについて"
      ],
      "metadata": {
        "id": "ZOgNFJtEY1g9"
      }
    },
    {
      "cell_type": "markdown",
      "source": [
        "## J-Quants APIの利用の仕方"
      ],
      "metadata": {
        "id": "IAkAWwXhWLjM"
      }
    },
    {
      "cell_type": "markdown",
      "source": [
        "\n",
        "\n",
        "1. [APIサービス登録ページ](https://jpx-jquants.com/auth/signup)よりJ-Quants APIサービスへ登録\n",
        "\n",
        "2. 登録後、[ログインページ](https://jpx-jquants.com/auth/signin)から登録したメールアドレス及びパスワードでJ-Quants APIサービスへログインしリフレッシュトークンを取得（取得ボタンを押下すると、自動的にクリップボードへコピーされます）\n",
        "3. CurlコマンドやPython等を用いて、リフレッシュトークンを利用し、ID tokenを取得\n",
        "4. CurlコマンドやPython等を用いて、取得したID tokenを利用し、データを取得\n",
        "\n",
        "なお、J-Quants APIの各種APIの仕様は[こちら](https://jpx.gitbook.io/j-quants-ja/api-reference)をご参照ください。"
      ],
      "metadata": {
        "id": "wWXM0pB9WQuu"
      }
    },
    {
      "cell_type": "code",
      "source": [
        "#@title 上記3. について、pythonによるID token取得サンプル\n",
        "import requests\n",
        "import json\n",
        "\n",
        "REFRESH_TOKEN = \"eyJjdHkiOiJKV1QiLCJlbmMiOiJBMjU2R0NNIiwiYWxnIjoiUlNBLU9BRVAifQ.o-_oQceYYxgUheCTqEQAN8C6ky4M_bAYCzJkNzn9WRJjXiUUsnldr1-wnCuLhjF52DC-fdIZiJxvHcg4y8jbmiLS1zgBRJYgWrdtww_9oxZLQLYkX8KnyKNP2LtUkqCKeYu35t_5YQx4cR-uTir-1DhMUH-dJgLi84yjV1DQ6uYc7dLIKi_1kVyyTqm2Z8QESoUIi9b2kRcMyPHkzpLYTjXOlliznB3LvsF9KCYhTN8pv2FD9xWPLwpg7UdRn-Khc2N4zZ5TZcfCelJWfqCnF7zHkSdPyT1MIn9cx2PKs26ruBGDNoHzsFKDmzHmiwLe-qY7T98vET5lelXTaA0uZw.eOCBI_Xkeu0bLD00.8OcbYXe7qaYsKSRRCmp0oW8pWZfQ55ZgfGHo-N5rNfzJrgWRlC0_zwq4niu-2Pj7Yis4OcGZvuRJYI9knpJpOYVMrutU1znv6EFxgC-zG2F9csCZdZrAE7tyeV4iSDZnaKuEDUSWXZe3fyfUuLk9Te2VQId1AC8w83dssvhBFrYuEvpYBhKosP0P7bhGMSYElEVsRB4XORx3_x07GFmgeRT2Pc7ckfNZoCwI5OLF8lPr9rAb3QDo1bFKWtTApNPkU8XcbDVUe0sNdd-4Fi-xqMgKBR26tH7VqFGOThpMxa7MTpPY4dbiY5gaZn7rJWDM3CKdU6BW8TXv8sFWArnE-cx_UCZwfL78xGeUX7rBt5LXL7FYmugeF-WkQa2q8YLhIpTGtMdqcWquMoseLs6bFDDzs2zIddk-sWOPTSk1gC4tQFxV5Zd4MQpw4ZeKDgBmRaeLhjL2LJcL01496MbMdfBNTUS0dQJV23M4wxILMVLMwfabVhZW9-MCQzEZS4ztGb-7GePdIutrCY-JCuNFGwUu8zhdumFqQYbmt7Krg85EA21xDPjEhNDnnSoP6grHGII0i9i_Lp6FqNRRVUsrEtEl07FtkH0K-v2W94LZj6sp6gXacQGeq2qHLdrUDlF_UWUW5augKcKwbDBMuPb77K-wmvsBSutyS5BdRcjS1sXGtrEo1BvB6WsBc0sxmTnfjwbCAuQhj6X3viss_sQDtK0aFs2Epdt2erdaKwLqYIMCu3El8A-DphZtxvaFR181ojMwYD4MHQwBpQcsnNAspdL-5VxC7riV-Uyu0Z0jNUdmRSd5QX7tRsGQbjMICTP8DQbEGZvQjhiDFxLT1_uVx6gGcnY_FGKoX_ixMEHE0EJwjl51BA5360eJ8s0f82bbSX9WWeMnCHP5In3SCnTqZ9szJACDp3VfeHt06JtuAIm08oIThKA-s0Zx4zHRUXkBvO4HZE0Iz_OkyKD253QSSuGyhh_Z_hbe3sXwQfcpsBwZ1fa0hqZIdjYKrcKV-8AvY0raBzaF51uilh1IGg3stQBLRsv5ru6cmly5dLIlaJ_eJj69YBPlA-VG2ztshCEnJz1njSWXHc2t743ZqyI6NXZcxJxon9nQxqpWdznszDbSxjAQnsYWAUkpysFfBQYeIy4Hg5fToFsYrimOLq09KJeXzIkoONhgfh5a-ACGnt3_qGEBg4tLw8_BhhDfT5hGYkifELy1LiefqdMijML3JX8IRh1Z9aNJT3dzgTaC_sYA_CLwbWMR-NGysNZiEWY3UajJs7N7f04wQ5nmeZ4s-_Cmdnooc8cKVZ2soahwmRoDLsx59An6Pg4psWc-0mSitWGk7PwF3H7tPQ.G2ZnJTijPQFoQy_3La45fw\"\n",
        "idToken = requests.post(\n",
        "    f\"https://api.jquants.com/v1/token/auth_refresh?refreshtoken={REFRESH_TOKEN}\"\n",
        ").json()[\"idToken\"]\n"
      ],
      "metadata": {
        "id": "dZQEHU8rfatx"
      },
      "execution_count": null,
      "outputs": []
    },
    {
      "cell_type": "code",
      "source": [
        "#@title 上記4.について、 pythonによるデータ取得サンプル（銘柄情報）\n",
        "# 上記３.idTokenを取得していることが前提です\n",
        "headers = {'Authorization': 'Bearer {}'.format(idToken)}\n",
        "r = requests.get(\"https://api.jquants.com/v1/listed/info\", headers=headers)\n",
        "\n",
        "# APIからのresponseはjson形式\n",
        "info_data = r.json()[\"info\"]\n",
        "\n",
        "# 取得したデータを5つ表示\n",
        "info_data[:5]\n"
      ],
      "metadata": {
        "id": "kv7PjrZRgcK2"
      },
      "execution_count": null,
      "outputs": []
    },
    {
      "cell_type": "markdown",
      "source": [
        "本ノートブックで利用できるのは\"**Light**\"プランのアカウントであるため、  \n",
        "取得できる期間は直近から5年前（2018年6月）までのデータとなります。"
      ],
      "metadata": {
        "id": "SPq_iIPGNy-J"
      }
    },
    {
      "cell_type": "markdown",
      "source": [
        "## J-Quants API各種クライアントライブラリ"
      ],
      "metadata": {
        "id": "vf6qvLBOhbTJ"
      }
    },
    {
      "cell_type": "markdown",
      "source": [
        "J-Quants APIにはより使いやすくなるように、ラッパーとして以下のようなClientライブラリが存在します。\n",
        "\n",
        "* Python用クライアントライブラリ（ [jquants-api-client-python](https://github.com/J-Quants/jquants-api-client-python) ）\n",
        "\n",
        "* R用クライアントライブラリ（ [JQuantsR](https://github.com/J-Quants/JQuantsR) ）\n",
        "\n",
        "今回はPythonを用いるため、Python用クライアントライブラリを利用します。"
      ],
      "metadata": {
        "id": "vkr4V7Mohtxg"
      }
    },
    {
      "cell_type": "code",
      "source": [
        "#@title ライブラリインストール\n",
        "# Google Colabでjquants-api-client-pythonを使えるようにインストール\n",
        "!pip install jquants-api-client"
      ],
      "metadata": {
        "id": "h-WxFL-coL4K"
      },
      "execution_count": null,
      "outputs": []
    },
    {
      "cell_type": "code",
      "source": [
        "#@title 初期設定\n",
        "# 以下で各種ライブラリをインポート\n",
        "## Pythonのデータ解析ライブラリ\n",
        "import pandas as pd\n",
        "## グラフ描画ライブラリ\n",
        "import plotly.express as px\n",
        "import plotly.graph_objects as go\n",
        "from plotly.subplots import make_subplots\n",
        "\n",
        "from datetime import datetime, timedelta\n",
        "import warnings\n",
        "\n",
        "## J-Quants APIラッパーライブラリ\n",
        "import jquantsapi\n",
        "\n",
        "# pandas DataFrameの描画設定\n",
        "pd.set_option(\"display.max_columns\", None)\n",
        "pd.set_option(\"display.max_rows\", 40)\n",
        "pd.set_option(\"display.max_colwidth\", 80)\n",
        "\n",
        "# warningを無視するための設定\n",
        "warnings.simplefilter('ignore')"
      ],
      "metadata": {
        "id": "DVQqGau7GaGR"
      },
      "execution_count": null,
      "outputs": []
    },
    {
      "cell_type": "code",
      "source": [
        "#@title J-QuantsAPIクライアント初期設定\n",
        "# J-QuantsAPIクライアント作成（インスタンス化）\n",
        "cli = jquantsapi.Client(refresh_token=REFRESH_TOKEN)"
      ],
      "metadata": {
        "id": "fXWUFI37IuUD"
      },
      "execution_count": null,
      "outputs": []
    },
    {
      "cell_type": "markdown",
      "source": [
        "# 銘柄一覧情報 API\n",
        "\n",
        "銘柄情報は、東京証券取引所へ上場している銘柄について提供しています。"
      ],
      "metadata": {
        "id": "in1t1GGTXHx7"
      }
    },
    {
      "cell_type": "code",
      "source": [
        "#@title 最新の銘柄一覧を取得\n",
        "df_info = cli.get_listed_info()\n",
        "\n",
        "# データフレームを確認\n",
        "df_info.info()"
      ],
      "metadata": {
        "id": "UF2xMSqimuPw"
      },
      "execution_count": null,
      "outputs": []
    },
    {
      "cell_type": "code",
      "source": [
        "#@title データフレームを描画\n",
        "df_info\n"
      ],
      "metadata": {
        "id": "AUa4ikaDNLX4"
      },
      "execution_count": null,
      "outputs": []
    },
    {
      "cell_type": "code",
      "source": [
        "#@title 過去の銘柄一覧を取得\n",
        "date = \"20180628\"#@param {type:\"string\"}\n",
        "\n",
        "df_info = cli.get_listed_info(date_yyyymmdd=date)\n",
        "df_info.info()"
      ],
      "metadata": {
        "id": "Gi2_NKG5NY-Y"
      },
      "execution_count": null,
      "outputs": []
    },
    {
      "cell_type": "markdown",
      "source": [
        "### ひとくちメモ集"
      ],
      "metadata": {
        "id": "q7WqyHNcjnp4"
      }
    },
    {
      "cell_type": "markdown",
      "source": [
        "- 株式銘柄コードは、(発行体ごとに付番される固有名コード4桁)及び(株券の種類ごとに付番される予備コード1桁)で構成されている。  \n",
        "（ex.普通株は末尾が0、優先株は末尾が5）\n"
      ],
      "metadata": {
        "id": "YIGjDmvrfkjM"
      }
    },
    {
      "cell_type": "code",
      "source": [
        "# 普通株と優先株\n",
        "df_info[df_info[\"Code\"].isin([\"25930\", \"25935\"])]\n"
      ],
      "metadata": {
        "id": "kFP4cl2Jg6Rw"
      },
      "execution_count": null,
      "outputs": []
    },
    {
      "cell_type": "code",
      "source": [
        "# 普通株以外の銘柄を取得\n",
        "df_info[~df_info[\"Code\"].str.endswith(\"0\")]"
      ],
      "metadata": {
        "id": "Bld2GxEjO_aL"
      },
      "execution_count": null,
      "outputs": []
    },
    {
      "cell_type": "markdown",
      "source": [
        "なお、現在株式銘柄コードは数値のみですが、2024年1月1日以降に新たに設定するコード（新規上場等）から数字のほかに英文字が追加される予定とのことです。  \n",
        "ご興味ある方は[こちら](https://www.jpx.co.jp/sicc/securities-code/index.html)に資料等があります。"
      ],
      "metadata": {
        "id": "HFRYJ27xISbL"
      }
    },
    {
      "cell_type": "markdown",
      "source": [
        "- なお、Sector17Codeが99、またはSecter33Codeが9999のものは、ETFやREIT、インフラファンド等の銘柄になっています。"
      ],
      "metadata": {
        "id": "hoQoPK0coOm1"
      }
    },
    {
      "cell_type": "markdown",
      "source": [
        "## 若干のデータ分析"
      ],
      "metadata": {
        "id": "_M9ehA9ikCf1"
      }
    },
    {
      "cell_type": "code",
      "source": [
        "# 銘柄一覧情報を取得\n",
        "df_info = cli.get_list()\n"
      ],
      "metadata": {
        "id": "HSBgCcYlkGfp"
      },
      "execution_count": null,
      "outputs": []
    },
    {
      "cell_type": "markdown",
      "source": [
        "### 17業種別の企業数"
      ],
      "metadata": {
        "id": "2appWzbgFpJm"
      }
    },
    {
      "cell_type": "code",
      "source": [
        "# ETF, REIT, インフラファンド等の17業種以外のデータを除外\n",
        "df = df_info[df_info[\"Sector17Code\"] != \"99\"]\n",
        "\n",
        "# 17業種名でグループ化\n",
        "df_sector = df.groupby(\"Sector17CodeName\").size().to_frame(\n",
        "    \"Count\").reset_index().sort_values(by=\"Count\", ascending=False)\n",
        "px.bar(df_sector, x=\"Sector17CodeName\", y=\"Count\", title=\"17業種別の企業数\")\n"
      ],
      "metadata": {
        "id": "kG5wuV0zFsgO"
      },
      "execution_count": null,
      "outputs": []
    },
    {
      "cell_type": "markdown",
      "source": [
        "### 33業種別の企業数"
      ],
      "metadata": {
        "id": "wx97fcQy91wT"
      }
    },
    {
      "cell_type": "code",
      "source": [
        "# ETF, REIT, インフラファンド等の33業種以外のデータを除外\n",
        "df = df_info[df_info[\"Sector33Code\"] != \"9999\"]\n",
        "\n",
        "# 33業種名でグループ化\n",
        "df_sector = df.groupby(\"Sector33CodeName\").size().to_frame(\n",
        "    \"Count\").reset_index().sort_values(by=\"Count\", ascending=False)\n",
        "px.bar(df_sector, x=\"Sector33CodeName\", y=\"Count\", title=\"33業種別の企業数\")\n"
      ],
      "metadata": {
        "id": "Zr9o0Z0k5YEv"
      },
      "execution_count": null,
      "outputs": []
    },
    {
      "cell_type": "markdown",
      "source": [
        "### 市場区分別の企業数"
      ],
      "metadata": {
        "id": "_NC9DYSl-vWe"
      }
    },
    {
      "cell_type": "code",
      "source": [
        "# 市場区分名でグループ化\n",
        "df_market = df_info.groupby(\"MarketCodeName\").size().to_frame(\n",
        "    \"Count\").reset_index().sort_values(by=\"Count\", ascending=False)\n",
        "px.bar(df_market, x=\"MarketCodeName\", y=\"Count\", title=\"市場区分別の企業数\")\n"
      ],
      "metadata": {
        "id": "kU25HFxB2zvk"
      },
      "execution_count": null,
      "outputs": []
    },
    {
      "cell_type": "markdown",
      "source": [
        "### 上記分析の両方を加味"
      ],
      "metadata": {
        "id": "qSpZOyQVst-6"
      }
    },
    {
      "cell_type": "code",
      "source": [
        "# ETF, REIT, インフラファンド等の33業種以外のデータを除外\n",
        "df = df_info[df_info[\"Sector33Code\"] != \"9999\"]\n",
        "\n",
        "# さらにプライム、スタンダード、グロース及びTokyoProMarket銘柄にフィルタ\n",
        "df = df[df[\"MarketCodeName\"].isin([\"プライム\", \"スタンダード\", \"グロース\", \"TOKYO PRO MARKET\"])]\n",
        "\n",
        "# 業種別及び市場名でグルーピング\n",
        "df_sector_market = df.groupby([\n",
        "    \"Sector33CodeName\", \"MarketCodeName\"\n",
        "]).size().to_frame(\"Count\").reset_index().sort_values(by=[\"MarketCodeName\", \"Count\"],\n",
        "                                                      ascending=False)\n",
        "\n",
        "px.bar(df_sector_market,\n",
        "       x=\"Sector33CodeName\",\n",
        "       y=\"Count\",\n",
        "       color=\"MarketCodeName\",\n",
        "       barmode=\"relative\",\n",
        "       title=\"33業種及び市場区分別の企業数\")\n"
      ],
      "metadata": {
        "id": "VRWWAS8G_hZc"
      },
      "execution_count": null,
      "outputs": []
    },
    {
      "cell_type": "markdown",
      "source": [
        "### 過去時点（１年前）の銘柄一覧で上記同様のグラフ描画"
      ],
      "metadata": {
        "id": "0DMfmDj-GLEj"
      }
    },
    {
      "cell_type": "code",
      "source": [
        "d = datetime.now() - timedelta(days=365)\n",
        "df_info = cli.get_list(date_yyyymmdd=d.strftime(format=\"%Y%m%d\"))\n",
        "\n",
        "# ETF, REIT, インフラファンド等の33業種以外のデータを除外\n",
        "df = df_info[df_info[\"Sector33Code\"] != \"9999\"]\n",
        "\n",
        "# さらにプライム、スタンダード、グロース及びTokyoProMarket銘柄にフィルタ\n",
        "df = df[df[\"MarketCodeName\"].isin([\"プライム\", \"スタンダード\", \"グロース\", \"TOKYO PRO MARKET\"])]\n",
        "\n",
        "# 業種別及び市場名でグルーピング\n",
        "df_sector_market = df.groupby([\n",
        "    \"Sector33CodeName\", \"MarketCodeName\"\n",
        "]).size().to_frame(\"Count\").reset_index().sort_values(by=[\"MarketCodeName\", \"Count\"],\n",
        "                                                      ascending=False)\n",
        "px.bar(df_sector_market,\n",
        "       x=\"Sector33CodeName\",\n",
        "       y=\"Count\",\n",
        "       color=\"MarketCodeName\",\n",
        "       barmode=\"relative\",\n",
        "       title=\"33業種及び市場区分別の企業数\")\n"
      ],
      "metadata": {
        "id": "hx9apk4fPfEm"
      },
      "execution_count": null,
      "outputs": []
    },
    {
      "cell_type": "markdown",
      "source": [
        "# 株価情報 API（毎営業日の17時00分頃データ更新）\n",
        "\n",
        "株価データを取得することができます。  \n",
        "株価及び取引高は、株式分割・併合を考慮した調整済み株価（小数点第２位四捨五入）と調整前の株価の両方を取得することができます。  \n",
        "\n",
        "なお、データを取得する際には、株式銘柄コード（code）または日付（date）の指定が必須となっています。\n",
        "\n",
        "また、地取に単独上場している銘柄については、株価配信していません。"
      ],
      "metadata": {
        "id": "IOurY_o-Y9Cl"
      }
    },
    {
      "cell_type": "markdown",
      "source": [
        "### 株式銘柄コード指定Ver"
      ],
      "metadata": {
        "id": "Cpd0yiiwqC_f"
      }
    },
    {
      "cell_type": "code",
      "source": [
        "df_info = cli.get_list()\n",
        "code = \"8697\"#@param {type:\"string\"}\n",
        "\n",
        "df_quotes_bycode = cli.get_prices_daily_quotes(code=code)\n",
        "\n",
        "# データフレームの情報を取得\n",
        "df_quotes_bycode.info()\n",
        "\n",
        "print(\"\\n\")\n",
        "\n",
        "# データフレームを描画\n",
        "df_quotes_bycode\n"
      ],
      "metadata": {
        "id": "AMMohwc-js08"
      },
      "execution_count": null,
      "outputs": []
    },
    {
      "cell_type": "code",
      "source": [
        "# 欠損値の確認\n",
        "df_quotes_bycode[df_quotes_bycode.isnull().any(axis=1)]\n"
      ],
      "metadata": {
        "id": "SBsxOE2unqEV"
      },
      "execution_count": null,
      "outputs": []
    },
    {
      "cell_type": "code",
      "source": [
        "# 欠損値の確認\n",
        "date = \"20180628\"#@param {type:\"string\"}\n",
        "\n",
        "df_quotes_bydate = cli.get_prices_daily_quotes(date_yyyymmdd=date)\n",
        "df_quotes_bydate[df_quotes_bydate.isnull().any(axis=1)]\n"
      ],
      "metadata": {
        "id": "kE77mWfSq1dd"
      },
      "execution_count": null,
      "outputs": []
    },
    {
      "cell_type": "markdown",
      "source": [
        "その日取引が成立しなかった銘柄については、NaNが入っている。"
      ],
      "metadata": {
        "id": "efG0qAKfq7BE"
      }
    },
    {
      "cell_type": "markdown",
      "source": [
        "## 若干のデータ分析"
      ],
      "metadata": {
        "id": "kaT1wWtSyhUV"
      }
    },
    {
      "cell_type": "markdown",
      "source": [
        "- 株価分析でよくある図を作成してみる"
      ],
      "metadata": {
        "id": "lXXGMtizQEAD"
      }
    },
    {
      "cell_type": "code",
      "source": [
        "# JPXの株価を取得\n",
        "code = \"8697\"#@param {type:\"string\"}\n",
        "df_jpx = cli.get_prices_daily_quotes(code=code)\n",
        "\n",
        "# グラフに第2軸を設定\n",
        "fig = make_subplots(specs=[[{\"secondary_y\": True}]])\n",
        "\n",
        "# ローソク足を描画\n",
        "fig.add_trace(\n",
        "    go.Candlestick(x=df_jpx.Date,\n",
        "                   open=df_jpx.AdjustmentOpen,\n",
        "                   high=df_jpx.AdjustmentHigh,\n",
        "                   low=df_jpx.AdjustmentLow,\n",
        "                   close=df_jpx.AdjustmentClose,\n",
        "                   name=\"OHLC\"))\n",
        "\n",
        "# 25日移動平均\n",
        "fig.add_trace(\n",
        "    go.Scatter(x=df_jpx.Date,\n",
        "               y=df_jpx.AdjustmentClose.rolling(25).mean(),\n",
        "               name=\"25日移動平均線\"))\n",
        "\n",
        "# 75日移動平均\n",
        "fig.add_trace(\n",
        "    go.Scatter(x=df_jpx.Date,\n",
        "               y=df_jpx.AdjustmentClose.rolling(75).mean(),\n",
        "               name=\"75日移動平均線\"))\n",
        "\n",
        "# 取引高を第2軸に設定\n",
        "fig.add_trace(go.Bar(x=df_jpx.Date, y=df_jpx.AdjustmentVolume, name=\"調整済み取引高\"),\n",
        "              secondary_y=True)\n",
        "fig.update_layout(title_text=f\"銘柄コード（{code}）のローソク足及び出来高\")\n",
        "fig.show()\n",
        "\n",
        "df_info[df_info[\"Code\"].str.startswith(code)]"
      ],
      "metadata": {
        "id": "0qS4NGdYyeI0"
      },
      "execution_count": null,
      "outputs": []
    },
    {
      "cell_type": "markdown",
      "source": [
        "# 財務情報 API（18時ごろ及び24時30分頃更新）\n",
        "\n",
        "財務情報は上場会社の四半期及び通期の決算短信に係る情報を取得できます。"
      ],
      "metadata": {
        "id": "9Ox2YvyjY_p8"
      }
    },
    {
      "cell_type": "code",
      "source": [
        "code = \"8697\"#@param {type:\"string\"}\n",
        "df_fins = cli.get_fins_statements(code=code)\n",
        "\n",
        "# データフレームを確認\n",
        "df_fins.info()\n",
        "\n",
        "print(\"\\n\")\n",
        "\n",
        "# データフレームを描画\n",
        "df_fins\n"
      ],
      "metadata": {
        "id": "MCF7Vh166U7O"
      },
      "execution_count": null,
      "outputs": []
    },
    {
      "cell_type": "markdown",
      "source": [
        "## 若干のデータ分析"
      ],
      "metadata": {
        "id": "6SBxtk9i6Rcc"
      }
    },
    {
      "cell_type": "code",
      "source": [
        "# 過去の一定期間の財務情報を取得\n",
        "d_from = datetime.now() - timedelta(days=300)\n",
        "d_to = datetime.now()\n",
        "df_fins = cli.get_statements_range(start_dt=d_from.strftime(format=\"%Y%m%d\"), end_dt=d_to.strftime(format=\"%Y%m%d\"))\n"
      ],
      "metadata": {
        "id": "EatgPstsnob-"
      },
      "execution_count": null,
      "outputs": []
    },
    {
      "cell_type": "code",
      "source": [
        "# 書類種別の項目を表示\n",
        "df_fins[\"TypeOfDocument\"].value_counts()\n"
      ],
      "metadata": {
        "id": "CxONVOPLDM7l"
      },
      "execution_count": null,
      "outputs": []
    },
    {
      "cell_type": "markdown",
      "source": [
        "書類種別には、連結（Consolidated）や非連結（NonConsolidated）決算、予想の修正（ForecastRevision）の開示等があることがわかる。"
      ],
      "metadata": {
        "id": "Bi86Iwo5FNr0"
      }
    },
    {
      "cell_type": "code",
      "source": [
        "# 会計期間の種類を表示\n",
        "df_fins[\"TypeOfCurrentPeriod\"].value_counts()\n"
      ],
      "metadata": {
        "id": "AWBl4QmfNw-G"
      },
      "execution_count": null,
      "outputs": []
    },
    {
      "cell_type": "code",
      "source": [
        "# 事業年度の終了日を表示\n",
        "df_fins_onlyFY = df_fins[df_fins[\"TypeOfDocument\"].str.contains(\n",
        "    \"FYFinancialStatements\")]\n",
        "df_fins_onlyFY[\"CurrentPeriodEndDate\"].value_counts()\n"
      ],
      "metadata": {
        "id": "v9ZFCieEOweK"
      },
      "execution_count": null,
      "outputs": []
    },
    {
      "cell_type": "code",
      "source": [
        "# 一番多い決算期末の日付でフィルタ\n",
        "df_fins_onlyFY_onMar = df_fins_onlyFY[df_fins_onlyFY[\"CurrentPeriodEndDate\"] ==\n",
        "                                      df_fins_onlyFY[\"CurrentPeriodEndDate\"].value_counts().idxmax().strftime(format(\"%Y%m%d\"))]\n",
        "\n",
        "# 開示日でグループ化し、開示件数を描画\n",
        "df_disclosed_date = df_fins_onlyFY_onMar.groupby(\n",
        "    \"DisclosedDate\").size().to_frame(\"Count\").reset_index()\n",
        "px.bar(df_disclosed_date, x=\"DisclosedDate\", y=\"Count\", title=\"日ごとの開示件数\")\n"
      ],
      "metadata": {
        "id": "lknuNNqgRVTD"
      },
      "execution_count": null,
      "outputs": []
    },
    {
      "cell_type": "markdown",
      "source": [
        "ある日に開示が集中していることがわかる（決算期末を迎えてから45日以内に開示しなければならないため）"
      ],
      "metadata": {
        "id": "e1034bJHV9Cc"
      }
    },
    {
      "cell_type": "markdown",
      "source": [
        "# マーケット情報 API（毎週第4営業日に週次で更新） **（Lightプラン以上のプランの方のみ利用可能）**\n",
        "\n",
        "2017年1月から足元までの投資部門別売買状況（金額）のデータを取得することができます。  \n",
        "なお、配信データは[こちらのページ](https://www.jpx.co.jp/markets/statistics-equities/investor-type/index.html)で公表している内容と同一です。  "
      ],
      "metadata": {
        "id": "tnIOKgSdX0GV"
      }
    },
    {
      "cell_type": "code",
      "source": [
        "df_trades_spec = cli.get_markets_trades_spec()\n",
        "\n",
        "# データフレームを確認\n",
        "df_trades_spec.info()\n",
        "\n",
        "print(\"\\n\")\n",
        "\n",
        "# データフレームを描画\n",
        "df_trades_spec\n"
      ],
      "metadata": {
        "id": "Re_RHFAbX0GW"
      },
      "execution_count": null,
      "outputs": []
    },
    {
      "cell_type": "markdown",
      "source": [
        "## 若干のデータ分析"
      ],
      "metadata": {
        "id": "jheKeIcEX0GW"
      }
    },
    {
      "cell_type": "code",
      "source": [
        "df_trades_spec[\"Section\"].value_counts()"
      ],
      "metadata": {
        "id": "2rKWXkxcjgca"
      },
      "execution_count": null,
      "outputs": []
    },
    {
      "cell_type": "code",
      "source": [
        "# 2022年4月以降のプライム市場の投資部門別データを取得\n",
        "section = \"TSEPrime\"#@param [\"TSE1st\", \"TSE2nd\", \"TSEJASDAQ\", \"TSEMothers\", \"TSEPrime\", \"TSEStandard\", \"TSEGrowth\", \"TokyoNagoya\"] {allow-input: true}\n",
        "from_ = \"20220401\"#@param {type:\"string\"}\n",
        "\n",
        "\n",
        "df_trades_spec = cli.get_markets_trades_spec(section=section,from_yyyymmdd=from_)\n",
        "\n",
        "# 各属性のうち、Balance（売り買いの差し引き金額）の項目のみ取得\n",
        "columns_balance = df_trades_spec.columns[df_trades_spec.columns.str.contains(\n",
        "    \"Balance\")]\n",
        "df_trades_spec_only_balance = df_trades_spec[columns_balance].copy()\n",
        "\n",
        "# 投資部門別データの公表日を選択した項目のデータフレームへ転記\n",
        "df_trades_spec_only_balance.loc[:, \"StartDate\"] = df_trades_spec[\n",
        "    \"StartDate\"].copy()\n",
        "df_trades_spec_only_balance.set_index(\"StartDate\", inplace=True)\n",
        "\n",
        "# 海外投資家、個人、投資信託、信託銀行の4つの属性のみ描画\n",
        "fig = px.bar(df_trades_spec_only_balance,\n",
        "             x=df_trades_spec_only_balance.index,\n",
        "             y=[\n",
        "                 \"ForeignersBalance\", \"IndividualsBalance\",\n",
        "                 \"InvestmentTrustsBalance\", \"TrustBanksBalance\"\n",
        "             ],\n",
        "             barmode=\"group\")\n",
        "fig.update_xaxes(type=\"category\")\n",
        "fig.show()\n"
      ],
      "metadata": {
        "id": "jDzZ_UVzD5Ua"
      },
      "execution_count": null,
      "outputs": []
    },
    {
      "cell_type": "code",
      "source": [
        "# 日ごとだと見にくいため、月単位で合計してみる\n",
        "df_monthly = df_trades_spec_only_balance.resample(\"M\").sum()\n",
        "fig = px.bar(df_monthly,\n",
        "       x=df_monthly.index,\n",
        "       y=[\n",
        "           \"ForeignersBalance\", \"IndividualsBalance\",\n",
        "           \"InvestmentTrustsBalance\", \"TrustBanksBalance\"\n",
        "       ],\n",
        "       barmode=\"group\")\n",
        "fig.update_xaxes(\n",
        "    dtick=\"M1\",\n",
        "    tickformat=\"%b %Y\",\n",
        "    tick0=\"2022-04-30\")\n",
        "fig.show()\n"
      ],
      "metadata": {
        "id": "70w4GZ8YWmpb"
      },
      "execution_count": null,
      "outputs": []
    },
    {
      "cell_type": "markdown",
      "source": [
        "# TOPIX指数API **（Lightプラン以上のプランの方のみ利用可能）**\n",
        "\n",
        "2021年1月から足元までのTOPIX指数のデータを取得することができます。  "
      ],
      "metadata": {
        "id": "SDyo1lqF1RV0"
      }
    },
    {
      "cell_type": "code",
      "source": [
        "df_topix = cli.get_indices_topix()\n",
        "\n",
        "# データフレームを確認\n",
        "df_topix.info()\n",
        "\n",
        "print(\"\\n\")\n",
        "\n",
        "# データフレームを描画\n",
        "df_topix\n"
      ],
      "metadata": {
        "id": "KjTkuMxs27X4"
      },
      "execution_count": null,
      "outputs": []
    },
    {
      "cell_type": "markdown",
      "source": [
        "## 若干のデータ分析（JPXとTOPIX指数の比較）"
      ],
      "metadata": {
        "id": "RB9Dg2IP3M7z"
      }
    },
    {
      "cell_type": "code",
      "source": [
        "# JPXの2021年からの株価を取得\n",
        "code = \"8697\"#@param {\"type\": \"string\"}\n",
        "from_ = \"20210101\"#@param {\"type\": \"string\"}\n",
        "\n",
        "d_now = datetime.now().strftime(\"%Y%m%d\")\n",
        "df_jpx = cli.get_prices_daily_quotes(code=code, from_yyyymmdd=from_, to_yyyymmdd=d_now)\n",
        "df_topix = cli.get_indices_topix(from_yyyymmdd=from_, to_yyyymmdd=d_now)\n",
        "\n",
        "# グラフに第2軸を設定\n",
        "fig = make_subplots(specs=[[{\"secondary_y\": True}]])\n",
        "\n",
        "# ローソク足を描画\n",
        "fig.add_trace(\n",
        "    go.Candlestick(x=df_jpx.Date,\n",
        "                   open=df_jpx.AdjustmentOpen,\n",
        "                   high=df_jpx.AdjustmentHigh,\n",
        "                   low=df_jpx.AdjustmentLow,\n",
        "                   close=df_jpx.AdjustmentClose,\n",
        "                   name=\"OHLC\"))\n",
        "\n",
        "# 取引高を第2軸に設定\n",
        "fig.add_trace(go.Scatter(x=df_topix.Date, y=df_topix.Close, name=\"TOPIX指数終値\", line=dict(color=\"#51848E\")),\n",
        "              secondary_y=True)\n",
        "fig.update_layout(title_text=f\"銘柄コード（{code}）のローソク足及びTOPIX指数\")\n",
        "fig.show()\n",
        "\n",
        "df_info[df_info[\"Code\"].str.startswith(code)]"
      ],
      "metadata": {
        "id": "RxpZT1jA1RV1"
      },
      "execution_count": null,
      "outputs": []
    },
    {
      "cell_type": "markdown",
      "source": [
        "# FinVizのTreeMapみたいなやつ"
      ],
      "metadata": {
        "id": "nXzXQx-LQNP4"
      }
    },
    {
      "cell_type": "markdown",
      "source": [
        "- 各APIを統合して利用した分析として、FinVizのTreeMapのようなものを作ってみる"
      ],
      "metadata": {
        "id": "4EpjbzS63LNo"
      }
    },
    {
      "cell_type": "markdown",
      "source": [
        "## 33業種で作成"
      ],
      "metadata": {
        "id": "WMla6uaJMe_o"
      }
    },
    {
      "cell_type": "markdown",
      "source": [
        "### 時価総額を算出するため、各銘柄の期末発行済み株式数を取得"
      ],
      "metadata": {
        "id": "YxoB18tdJoQi"
      }
    },
    {
      "cell_type": "code",
      "source": [
        "# 2023年初来の財務情報取得\n",
        "df_fins = cli.get_statements_range(start_dt=\"20230101\")\n",
        "\n",
        "\n",
        "# 財務情報データから取得したい項目（株式銘柄コード、期末発行済株式数）を定義\n",
        "fins_columns = [\n",
        "    \"LocalCode\",\n",
        "    \"NumberOfIssuedAndOutstandingSharesAtTheEndOfFiscalYearIncludingTreasuryStock\"\n",
        "]\n",
        "\n",
        "# 財務情報テータから必要なデータ（期末発行株式数）のみ取得\n",
        "df_treasury_stock = df_fins[df_fins[\n",
        "    \"NumberOfIssuedAndOutstandingSharesAtTheEndOfFiscalYearIncludingTreasuryStock\"]\n",
        "                            != \"\"][fins_columns]\n",
        "\n",
        "# 列名の変更（LocalCode -> Code）\n",
        "df_treasury_stock = df_treasury_stock.rename(columns={\"LocalCode\": \"Code\"})\n",
        "\n",
        "\n",
        "# 期末発行済株式数を文字列から整数に変換\n",
        "df_treasury_stock[\n",
        "    \"NumberOfIssuedAndOutstandingSharesAtTheEndOfFiscalYearIncludingTreasuryStock\"] = df_treasury_stock[\n",
        "        \"NumberOfIssuedAndOutstandingSharesAtTheEndOfFiscalYearIncludingTreasuryStock\"].astype(\"int\")\n",
        "\n",
        "# 期末発行済株式数を銘柄毎にグループ化して平均\n",
        "df_treasury_stock = df_treasury_stock.groupby(\n",
        "    by=\"Code\").mean().reset_index()\n"
      ],
      "metadata": {
        "id": "zBIP-oKfu3ya"
      },
      "execution_count": null,
      "outputs": []
    },
    {
      "cell_type": "markdown",
      "source": [
        "### 33業種のそれぞれについて、時価総額Top5の企業を取得"
      ],
      "metadata": {
        "id": "McKUm9wIJ0tZ"
      }
    },
    {
      "cell_type": "code",
      "source": [
        "# 昨日の全銘柄株価を取得\n",
        "d_yesterday = (datetime.now() - timedelta(days=1)).strftime(format=\"%Y%m%d\")\n",
        "df_prices = cli.get_prices_daily_quotes(date_yyyymmdd=d_yesterday)\n",
        "\n",
        "# 銘柄一覧を取得\n",
        "df_info = cli.get_list()\n",
        "\n",
        "# 銘柄一覧と全銘柄株価を株式銘柄コードで結合\n",
        "df_merge = pd.merge(df_prices, df_info, how=\"inner\", on=\"Code\")\n",
        "\n",
        "# さらに先程取得した期末発行済み株式数と結合\n",
        "df_merge = pd.merge(df_merge, df_treasury_stock, how=\"inner\", on=\"Code\")\n",
        "\n",
        "# 時価総額をデータフレームに追加\n",
        "df_merge[\"Capitalization\"] = df_merge[\"AdjustmentClose\"] * df_merge[\n",
        "    \"NumberOfIssuedAndOutstandingSharesAtTheEndOfFiscalYearIncludingTreasuryStock\"]\n",
        "\n",
        "# 時価総額及び業種コードでソート\n",
        "df_merge = df_merge.sort_values(by=[\"Capitalization\"], ascending=False)\n",
        "\n",
        "# 業種名毎の上位５社を抽出\n",
        "df_top5 = df_merge.groupby(\"Sector33CodeName\").head(5)\n",
        "\n",
        "# 業種その他（ETF等）を除外\n",
        "df_top5 = df_top5[df_top5[\"Sector33Code\"] != \"9999\"]\n",
        "\n",
        "# 各業種の時価総額Top5の株式銘柄コードを取得\n",
        "top5_codes = df_top5[\"Code\"]\n"
      ],
      "metadata": {
        "id": "nY2Zs7UK3ZdO"
      },
      "execution_count": null,
      "outputs": []
    },
    {
      "cell_type": "markdown",
      "source": [
        "### 33業種のそれぞれについて、時価総額Top5の企業の約1か月（20営業日）のリターンを取得"
      ],
      "metadata": {
        "id": "klyKYN8dKKhy"
      }
    },
    {
      "cell_type": "code",
      "source": [
        "# 約１か月分の全銘柄の株価情報を取得\n",
        "\n",
        "start_dt = \"20230428\"#@param {\"type\": \"string\"}\n",
        "end_dt = \"20230531\"#@param {\"type\": \"string\"}\n",
        "\n",
        "df_1month_prices = cli.get_price_range(start_dt=start_dt, end_dt=end_dt)\n",
        "\n",
        "# 各業種の時価総額Top5のみの調整済み終値を取得\n",
        "df_top5_1month_prices = df_1month_prices[df_1month_prices[\"Code\"].isin(\n",
        "    top5_codes)][[\"Code\", \"Date\", \"AdjustmentClose\"]]\n",
        "\n",
        "# 約1か月のリターン計算する関数\n",
        "def calc_return(df, code):\n",
        "    df = df[df[\"Code\"] == code]\n",
        "    df[\"Return\"] = df[\"AdjustmentClose\"].pct_change(20)\n",
        "    return df[[\"Code\", \"Return\"]].tail(1).to_dict(orient=\"records\")\n",
        "\n",
        "# 各銘柄の約1か月のリターンを作成\n",
        "returns_list = []\n",
        "\n",
        "for code in top5_codes:\n",
        "    df = calc_return(df_top5_1month_prices, code)\n",
        "    returns_list.extend(df)\n",
        "\n",
        "# リターンのデータフレームを作成\n",
        "df_returns = pd.DataFrame(returns_list)"
      ],
      "metadata": {
        "id": "fQ-QSXr3R8pb"
      },
      "execution_count": null,
      "outputs": []
    },
    {
      "cell_type": "markdown",
      "source": [
        "### 業種、企業名、時価総額、リターンからtreemapを描画"
      ],
      "metadata": {
        "id": "IFCPIBN0KWTz"
      }
    },
    {
      "cell_type": "code",
      "source": [
        "# リターンのデータフレームを結合\n",
        "df_top5_with_returns = pd.merge(df_top5, df_returns, how=\"inner\", on=\"Code\")\n",
        "\n",
        "# treemapを描画\n",
        "fig = px.treemap(df_top5_with_returns,\n",
        "                 path=[px.Constant(\"TSE\"), \"Sector33CodeName\", \"CompanyName\"],\n",
        "                 values=\"Capitalization\",\n",
        "                 color=\"Return\",\n",
        "                 color_continuous_scale=[\"red\", \"white\", \"green\"],\n",
        "                 color_continuous_midpoint=0)\n",
        "fig.update_layout(margin=dict(t=50, l=25, r=25, b=25))\n",
        "fig.show()\n"
      ],
      "metadata": {
        "id": "RJt4Y7jtKFPg"
      },
      "execution_count": null,
      "outputs": []
    },
    {
      "cell_type": "markdown",
      "source": [
        "## 17業種でも作成"
      ],
      "metadata": {
        "id": "MyvNuiZsMmG2"
      }
    },
    {
      "cell_type": "markdown",
      "source": [
        "### 時価総額を算出するため、各銘柄の期末発行済み株式数を取得"
      ],
      "metadata": {
        "id": "drt5oLNHMTtH"
      }
    },
    {
      "cell_type": "code",
      "source": [
        "# 2023年初来の財務情報取得\n",
        "df_fins = cli.get_statements_range(start_dt=\"20230101\")\n",
        "\n",
        "\n",
        "# 財務情報データから取得したい項目（株式銘柄コード、期末発行済株式数）を定義\n",
        "fins_columns = [\n",
        "    \"LocalCode\",\n",
        "    \"NumberOfIssuedAndOutstandingSharesAtTheEndOfFiscalYearIncludingTreasuryStock\"\n",
        "]\n",
        "\n",
        "# 財務情報テータから必要なデータのみ取得\n",
        "df_treasury_stock = df_fins[df_fins[\n",
        "    \"NumberOfIssuedAndOutstandingSharesAtTheEndOfFiscalYearIncludingTreasuryStock\"]\n",
        "                            != \"\"][fins_columns]\n",
        "\n",
        "# 列名の変更（LocalCode -> Code）\n",
        "df_treasury_stock = df_treasury_stock.rename(columns={\"LocalCode\": \"Code\"})\n",
        "\n",
        "\n",
        "# 期末発行済株式数を文字列から整数に変換\n",
        "df_treasury_stock[\n",
        "    \"NumberOfIssuedAndOutstandingSharesAtTheEndOfFiscalYearIncludingTreasuryStock\"] = df_treasury_stock[\n",
        "        \"NumberOfIssuedAndOutstandingSharesAtTheEndOfFiscalYearIncludingTreasuryStock\"].astype(\"int\")\n",
        "\n",
        "# 期末発行済株式数を銘柄毎にグループ化して平均\n",
        "df_treasury_stock = df_treasury_stock.groupby(\n",
        "    by=\"Code\").mean().reset_index()\n"
      ],
      "metadata": {
        "id": "8ErokySZMTtU"
      },
      "execution_count": null,
      "outputs": []
    },
    {
      "cell_type": "markdown",
      "source": [
        "### 33業種のそれぞれについて、時価総額Top5の企業を取得"
      ],
      "metadata": {
        "id": "Wj8GG8yaMTtU"
      }
    },
    {
      "cell_type": "code",
      "source": [
        "# 昨日の全銘柄株価を取得\n",
        "d_yesterday = (datetime.now() - timedelta(days=1)).strftime(format=\"%Y%m%d\")\n",
        "df_prices = cli.get_prices_daily_quotes(date_yyyymmdd=d_yesterday)\n",
        "\n",
        "\n",
        "# 銘柄一覧を取得\n",
        "df_info = cli.get_list()\n",
        "\n",
        "# 銘柄一覧と全銘柄株価を株式銘柄コードで結合\n",
        "df_merge = pd.merge(df_prices, df_info, how=\"inner\", on=\"Code\")\n",
        "\n",
        "# さらに先程取得した期末発行済み株式数と結合\n",
        "df_merge = pd.merge(df_merge, df_treasury_stock, how=\"inner\", on=\"Code\")\n",
        "\n",
        "# 時価総額をデータフレームに追加\n",
        "df_merge[\"Capitalization\"] = df_merge[\"AdjustmentClose\"] * df_merge[\n",
        "    \"NumberOfIssuedAndOutstandingSharesAtTheEndOfFiscalYearIncludingTreasuryStock\"]\n",
        "\n",
        "# 時価総額及び業種コードでソート\n",
        "df_merge = df_merge.sort_values(by=[\"Capitalization\"], ascending=False)\n",
        "\n",
        "# 業種名毎の上位５社を抽出\n",
        "df_top5 = df_merge.groupby(\"Sector17CodeName\").head(5)\n",
        "\n",
        "# 業種その他（ETF等）を除外\n",
        "df_top5 = df_top5[df_top5[\"Sector17Code\"] != \"99\"]\n",
        "\n",
        "# 各業種の時価総額Top5の株式銘柄コードを取得\n",
        "top5_codes = df_top5[\"Code\"]\n"
      ],
      "metadata": {
        "id": "udsV1CxbMTtV"
      },
      "execution_count": null,
      "outputs": []
    },
    {
      "cell_type": "markdown",
      "source": [
        "### 33業種のそれぞれについて、時価総額Top5の企業の約1か月（20営業日）のリターンを取得"
      ],
      "metadata": {
        "id": "KjF3aMKwMTtV"
      }
    },
    {
      "cell_type": "code",
      "source": [
        "# 約１か月分の全銘柄の株価情報を取得\n",
        "start_dt = \"20230428\"#@param {\"type\": \"string\"}\n",
        "end_dt = \"20230531\"#@param {\"type\": \"string\"}\n",
        "\n",
        "df_1month_prices = cli.get_price_range(start_dt=start_dt, end_dt=end_dt)\n",
        "\n",
        "\n",
        "# 各業種の時価総額Top5のみの調整済み終値を取得\n",
        "df_top5_1month_prices = df_1month_prices[df_1month_prices[\"Code\"].isin(\n",
        "    top5_codes)][[\"Code\", \"Date\", \"AdjustmentClose\"]]\n",
        "\n",
        "# 約1か月のリターン計算する関数\n",
        "def calc_return(df, code):\n",
        "    df = df[df[\"Code\"] == code]\n",
        "    df[\"Return\"] = df[\"AdjustmentClose\"].pct_change(20)\n",
        "    return df[[\"Code\", \"Return\"]].tail(1).to_dict(orient=\"records\")\n",
        "\n",
        "# 各銘柄の約1か月のリターンを作成\n",
        "returns_list = []\n",
        "\n",
        "for code in top5_codes:\n",
        "    df = calc_return(df_top5_1month_prices, code)\n",
        "    returns_list.extend(df)\n",
        "\n",
        "# リターンのデータフレームを作成\n",
        "df_returns = pd.DataFrame(returns_list)"
      ],
      "metadata": {
        "id": "GDfWncTWMTtV"
      },
      "execution_count": null,
      "outputs": []
    },
    {
      "cell_type": "markdown",
      "source": [
        "### 業種、企業名、時価総額、リターンからtreemapを描画"
      ],
      "metadata": {
        "id": "t3RZ1wQIMTtW"
      }
    },
    {
      "cell_type": "code",
      "source": [
        "# リターンのデータフレームを結合\n",
        "df_top5_with_returns = pd.merge(df_top5, df_returns, how=\"inner\", on=\"Code\")\n",
        "\n",
        "# treemapを描画\n",
        "fig = px.treemap(df_top5_with_returns,\n",
        "                 path=[px.Constant(\"TSE\"), \"Sector17CodeName\", \"CompanyName\"],\n",
        "                 values=\"Capitalization\",\n",
        "                 color=\"Return\",\n",
        "                 color_continuous_scale=[\"red\", \"white\", \"green\"],\n",
        "                 color_continuous_midpoint=0)\n",
        "fig.update_layout(margin=dict(t=50, l=25, r=25, b=25))\n",
        "fig.show()\n"
      ],
      "metadata": {
        "id": "FrLes332MTtW"
      },
      "execution_count": null,
      "outputs": []
    },
    {
      "cell_type": "markdown",
      "source": [
        "# ご意見等\n",
        "その他、こんなデータが欲しいというご要望や、こんなデータありますか？といった質問もどしどし受け付けております！！\n",
        "\n",
        "[マケデコdiscord](https://discord.gg/xg6P5RXwaa)の`#j-quants-api`チャンネルに送ってください！！  \n",
        "よろしくお願いいたします。"
      ],
      "metadata": {
        "id": "ECuvXWrtcqiB"
      }
    },
    {
      "cell_type": "code",
      "source": [],
      "metadata": {
        "id": "rTg-yl_3NTeH"
      },
      "execution_count": null,
      "outputs": []
    }
  ]
}