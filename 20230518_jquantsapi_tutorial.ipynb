{
  "cells": [
    {
      "cell_type": "markdown",
      "metadata": {
        "collapsed": true,
        "id": "3CyAgtw7GJvc",
        "pycharm": {
          "name": "#%% md\n"
        }
      },
      "source": [
        "# J-Quants APIを用いた株式分析チュートリアル\n",
        "\n",
        "本ノートブックは、2部構成になっています。\n",
        "前半で日本取引所グループが提供している [株式分析チュートリアル](https://japanexchangegroup.github.io/J-Quants-Tutorial/) の実行に必要となる株価・財務情報データを [J-Quants API](https://jpx-jquants.com/#jquants-api)を使用して取得し、データを調整し、保存するところまでを行います。\n",
        "\n",
        "後半では、取得したデータを用いて[J-Quants株式分析チュートリアル第2章のハンズオンノートブック](https://github.com/JapanExchangeGroup/J-Quants-Tutorial/blob/main/handson/Chapter02/20210121-chapter02-tutorial.ipynb) の再現を行います。\n",
        "\n",
        "Google Colab上で動作確認を行っています。\n",
        "\n",
        "---\n",
        "\n",
        "**このノートブックはGoogle Driveを使用します。**\n",
        "\n",
        "- Google Drive の以下のフォルダーにデータを書き込みます。\n",
        "    - `MyDrive/drive_ws/marketdata`"
      ]
    },
    {
      "cell_type": "code",
      "execution_count": null,
      "metadata": {
        "id": "757Ajii9ONBQ",
        "pycharm": {
          "name": "#%%\n"
        }
      },
      "outputs": [],
      "source": [
        "# Googleドライブをマウントするディレクトリ\n",
        "GOOGLE_DRIVE_MOUNT_DIR_PATH = \"/content/drive\"\n",
        "\n",
        "# Googleドライブをマウント\n",
        "from google.colab import drive\n",
        "drive.mount(GOOGLE_DRIVE_MOUNT_DIR_PATH)"
      ]
    },
    {
      "cell_type": "markdown",
      "metadata": {
        "id": "_HNw7eBtrwg2",
        "pycharm": {
          "name": "#%% md\n"
        }
      },
      "source": [
        "# データ作成"
      ]
    },
    {
      "cell_type": "markdown",
      "metadata": {
        "collapsed": false,
        "id": "yW05JPyuGJvd",
        "pycharm": {
          "name": "#%% md\n"
        }
      },
      "source": [
        "必要なライブラリのinstall/importと設定を行います。\n",
        "\n",
        "本ノートブックでは、J-Quants API のPythonクライアントライブラリである [jquants-api-client-python](https://github.com/J-Quants/jquants-api-client-python) を使用します。"
      ]
    },
    {
      "cell_type": "code",
      "execution_count": null,
      "metadata": {
        "id": "UL4Jo8m2GJvd",
        "pycharm": {
          "name": "#%%\n"
        }
      },
      "outputs": [],
      "source": [
        "# jquants-api-client をインストールします\n",
        "!pip install jquants-api-client\n",
        "\n",
        "import getpass\n",
        "import os\n",
        "from datetime import datetime\n",
        "from typing import List\n",
        "\n",
        "import numpy as np\n",
        "import pandas as pd\n",
        "from requests import HTTPError\n",
        "\n",
        "import jquantsapi\n",
        "\n",
        "# --- コンフィグ ---\n",
        "\n",
        "# データを保存するGoogleドライブ上のディレクトリ\n",
        "STORAGE_DIR_PATH = f\"{GOOGLE_DRIVE_MOUNT_DIR_PATH}/MyDrive/drive_ws/marketdata\"\n",
        "\n",
        "# 各種CSVデータを保存するファイルパス\n",
        "# 元データ\n",
        "raw_stock_list_csvfile_path = f\"{STORAGE_DIR_PATH}/raw_stock_list.csv.gz\"\n",
        "raw_stock_fins_csvfile_path = f\"{STORAGE_DIR_PATH}/raw_stock_fin.csv.gz\"\n",
        "raw_stock_price_csvfile_path = f\"{STORAGE_DIR_PATH}/raw_stock_price.csv.gz\"\n",
        "# 処理済みデータ\n",
        "stock_list_csvfile_path = f\"{STORAGE_DIR_PATH}/stock_list.csv.gz\"\n",
        "stock_fins_csvfile_path = f\"{STORAGE_DIR_PATH}/stock_fin.csv.gz\"\n",
        "stock_price_csvfile_path = f\"{STORAGE_DIR_PATH}/stock_price.csv.gz\"\n",
        "stock_labels_csvfile_path = f\"{STORAGE_DIR_PATH}/stock_labels.csv.gz\"\n",
        "\n",
        "# J-Quants API から取得するデータの期間\n",
        "start_dt: datetime = datetime(2018, 1, 1)\n",
        "end_dt: datetime = datetime(2023, 3, 31)\n",
        "\n",
        "# 目的変数(ラベル)の作成時に、何営業日後の価格レンジを予測するか。\n",
        "# たとえばlookaheads = [5, 10, 20] であった場合、5営業日後、10営業日後, 20営業日後\n",
        "# の高値・安値を取得し、stock_labels変数には下記のカラムが付与されたdataframeが保存されます。\n",
        "# \"label_date_5\", \"label_high_5\", \"label_low_5\", \n",
        "# \"label_date_10\", \"label_high_10\", \"label_low_10\",\n",
        "# \"label_date_20\", \"label_high_20\", \"label_low_20\",\n",
        "# lookaheads = [5, 10, 20]\n",
        "lookaheads = [20] # 数が多いと目的変数作成に時間がかかるので一旦20だけにする\n",
        "\n",
        "# データ保存先のフォルダーを作成しておきます\n",
        "os.makedirs(STORAGE_DIR_PATH, exist_ok=True)"
      ]
    },
    {
      "cell_type": "code",
      "execution_count": null,
      "metadata": {
        "id": "i1ADs91SGJve",
        "pycharm": {
          "name": "#%%\n"
        }
      },
      "outputs": [],
      "source": [
        "refresh_token = \"eyJjdHkiOiJKV1QiLCJlbmMiOiJBMjU2R0NNIiwiYWxnIjoiUlNBLU9BRVAifQ.LusUmC14JF3LGVD2R84u1_W7W3rqorfa0QMoxNiAMrAfNbBiJFbhovoL73L96_Og-vwq50r1HNuvK7TIMxyb3F5VC1cconM-WYCSFDfI7cGKOEfulzj9Q0wbhPheEsUtZyjNfBOncrv-eosPFAT4l9_E0YHRjEVQC-QpUWMsbouu2LGCMyzNnRE_cTTN7iFYr9lgXLBM5-6GGUtCvz-s-rfNMVkrYJOu_uvLyVSbx0CIdd2-sMi7PBdSyltEqQMmpmjIofAmoXu_YEcXGl32NqPO6LlXY_z7goAeFD61ojPeIR_pLpjCSCESn8LeQlz4UfpiDtH5OxiRKssffswXDQ.UHu8mSoJl7ZFsp9k.ljpCshZE-KIgng_YMBqk8omrgf_EyXvtMte6IFK4E4pjw1eHthO3G2JKKpJWd64YjTyKOFkilU0TeInM2iLNXdiUwbNMNAkrGA1etBzfmdoJdfJ9FPaBoZCZkx4ylTcsdh5KSR0s-YLfasQiIXal9NiGbbIhY3GFZ8F56wOmXd3tLKkDEda-psgytM96qUz6ZGxOBNRrIqBufKGJci_waAwIl2xZ8eMj4xm9HuWyiDFXM5ezOPxRje803INuU25CFyxs8yQTB3MqoP1pZ5KMNGqcrzKN95CE0BP-X_XVHg9Jko86g2LWd2OMaCorB2xXRPSPVHlS07NKnzgwoujN9MT8OsftGT02kh1jSPc41S0VAarhnX252pEFPGawReX7vTLTHkAQZxAq8ORPj1lhOG_uD0b7w5cacSwc7f15Ovt55rMokSzd2_t-c5Xp_E-zmme_FHKAk89aURJoxeeIOhtncBULlAPzD2VsdQ2Jjr5OuIWuizmYgh-Y2SQKte-l-t7ZTp9GLcKvKwpSkBvIeEX0Lsq8H9_-Va62MVasySiIVh2woVt3WG8fc6BadKzrHIGnKza-JTAvFuLMp_xuwx_x6qiZs3A9ywh-Oc8Ou4iBqnxD4w6NmPD11mzYmyj22ExH1FCAOL3YOw9HFRxW1JLgDkFXYAX0YSx8M8cls8oTQfBFyDoApNszD8JGBCgWtNvKUYrZl6pd_3Dap5UemoHoX66LJKUkMcwwk2rjH21CcPC9434L0fys5Fn-sWwYGTHzGaynmQxwU5E6T4mVp8GzZKPd0Sm1qdxZZNY5ti4sLrOOS1OjRjTzgPaLcV-jgko18LlzmiHcbgiUhvWTJ_awMNDyXlHXquGoteIqT_1vKG7GhZXm7BwQcEvLFii8UjSlgRG5_r3ZMhDlWlLPmo98adk4ie_bxchoQqhBrf-IAC5wzvjZpL1NcWvfGu_YuLlZPoKNrT6oxLfy_atfjOrj5978NxIW8Xbsc-HfGECxVBBmI2L_ErI8Z1YUcQwUr9JYRuQQaviYBxtBIcV5EekStA4BIYQo-l5UifyKO4NB8vykrM47PJFfVRSN5RZkfAYkGAmNPd7U5O_Ui8LjW9LY2GwGYP5HZxeucXAFHVESemSs7wJWBrlM4yQ0scltkVSR-B5fLsfkt0Ku5-gQcX1jpw0GNOQ4-bEYW2MnxBqA9zByPHLLWwVX8M3nZgiHBnBN_Asu6FeI-tWVHnmeZVPBTph5_IiF43IRXI6gfyBn1l22eJdG4Yems5k17sJ1839pxeclaWIQQCqXAE_qJgr-UX0T0rzA1dJDnZlXoLlFb195klqoO-NnuDi7nUzujdSvXOkpby0gXA.kV186RnBSQS7dzdQflSCtQ\"\n",
        "# リフレッシュトークンを使用できるか検証します。\n",
        "test_cli = jquantsapi.Client(refresh_token=refresh_token)\n",
        "try:\n",
        "    id_token = test_cli.get_id_token()\n",
        "    if len(id_token) > 0:\n",
        "        print(\"refresh_tokenは正常です。次の手順に進んでください。\")\n",
        "except HTTPError:\n",
        "    print(\"refresh_tokenを使用できません。再度値を確認してください。\")"
      ]
    },
    {
      "cell_type": "markdown",
      "metadata": {
        "collapsed": false,
        "id": "xaknOIQQGJve",
        "pycharm": {
          "name": "#%% md\n"
        }
      },
      "source": [
        "## データのダウンロードおよび保存\n",
        "\n",
        "銘柄一覧および、上記で設定したデータ取得期間(start_dt から end_dt) の\n",
        "全銘柄の価格と財務情報データを取得します。加えて、取得したデータを保存しておきます。データ処理方法を変えたりしても再度データ取得しなくて良くなります。\n",
        "\n",
        "このステップの実行にはデータを取得する期間によって数十分ほど時間がかかります。"
      ]
    },
    {
      "cell_type": "code",
      "execution_count": null,
      "metadata": {
        "id": "hMFairulGJvf",
        "pycharm": {
          "name": "#%%\n"
        }
      },
      "outputs": [],
      "source": [
        "cli = jquantsapi.Client(refresh_token=refresh_token)\n",
        "\n",
        "cli.MAX_WORKERS = 10\n",
        "\n",
        "# 銘柄一覧\n",
        "if os.path.isfile(raw_stock_list_csvfile_path):\n",
        "    print(f\"すでに{raw_stock_list_csvfile_path}が存在するのでデータ取得をスキップします。\")\n",
        "else:\n",
        "    stock_list_load: pd.DataFrame = cli.get_list()\n",
        "    stock_list_load.to_csv(raw_stock_list_csvfile_path, compression=\"gzip\", index=False)\n",
        "stock_list_load: pd.DataFrame = pd.read_csv(raw_stock_list_csvfile_path, dtype=str)\n",
        "\n",
        "\n",
        "# 株価情報\n",
        "if os.path.isfile(raw_stock_price_csvfile_path):\n",
        "    print(f\"すでに{raw_stock_price_csvfile_path}が存在するのでデータ取得をスキップします。\")\n",
        "else:\n",
        "    stock_price_load: pd.DataFrame = cli.get_price_range(start_dt=start_dt, end_dt=end_dt)\n",
        "    stock_price_load.to_csv(raw_stock_price_csvfile_path, compression=\"gzip\", index=False)\n",
        "stock_price_load: pd.DataFrame = pd.read_csv(raw_stock_price_csvfile_path, dtype=str)\n",
        "\n",
        "# 財務情報\n",
        "\n",
        "if os.path.isfile(raw_stock_fins_csvfile_path):\n",
        "    print(f\"すでに{raw_stock_fins_csvfile_path}が存在するのでデータ取得をスキップします。\")\n",
        "else:\n",
        "    stock_fin_load: pd.DataFrame = cli.get_statements_range(start_dt=start_dt, end_dt=end_dt)\n",
        "    stock_fin_load.to_csv(raw_stock_fins_csvfile_path, compression=\"gzip\", index=False)\n",
        "stock_fin_load: pd.DataFrame = pd.read_csv(raw_stock_fins_csvfile_path, dtype=str)"
      ]
    },
    {
      "cell_type": "code",
      "execution_count": null,
      "metadata": {
        "id": "9Azp2TiXfuuQ",
        "pycharm": {
          "name": "#%%\n"
        }
      },
      "outputs": [],
      "source": [
        "# 上記で保存したファイルを削除するためには以下のコマンドを実行します\n",
        "# 以降のセルでエラーが出た際にファイルを削除することをためしてみてください。\n",
        "# os.remove(raw_stock_list_csvfile_path)\n",
        "# os.remove(raw_stock_price_csvfile_path)\n",
        "# os.remove(raw_stock_fins_csvfile_path)"
      ]
    },
    {
      "cell_type": "markdown",
      "metadata": {
        "id": "r3vPKxGvD1oC",
        "pycharm": {
          "name": "#%% md\n"
        }
      },
      "source": [
        "## データ処理\n",
        "\n",
        "過去にJ-Quants株式分析チュートリアルやデータ分析コンペティションで用いられたデータとの互換性をなるべく取るため、データの処理を行います。"
      ]
    },
    {
      "cell_type": "code",
      "execution_count": null,
      "metadata": {
        "id": "vbvojFwC7Hq1",
        "pycharm": {
          "name": "#%%\n"
        }
      },
      "outputs": [],
      "source": [
        "# stock_price(株価)\n",
        "\n",
        "# 株価情報のobject型をdatetime64[ns]型に変換\n",
        "stock_price_load[\"Date\"] = pd.to_datetime(stock_price_load[\"Date\"])\n",
        "\n",
        "# 株価情報のいくつかがobject型になっているので数値型に変換\n",
        "stock_price_load[\"Open\"] = stock_price_load[\"Open\"].astype(np.float64)\n",
        "stock_price_load[\"High\"] = stock_price_load[\"High\"].astype(np.float64)\n",
        "stock_price_load[\"Low\"] = stock_price_load[\"Low\"].astype(np.float64)\n",
        "stock_price_load[\"Close\"] = stock_price_load[\"Close\"].astype(np.float64)\n",
        "stock_price_load[\"Volume\"] = stock_price_load[\"Volume\"].astype(np.float64)\n",
        "stock_price_load[\"AdjustmentOpen\"] = stock_price_load[\"AdjustmentOpen\"].astype(np.float64)\n",
        "stock_price_load[\"AdjustmentHigh\"] = stock_price_load[\"AdjustmentHigh\"].astype(np.float64)\n",
        "stock_price_load[\"AdjustmentLow\"] = stock_price_load[\"AdjustmentLow\"].astype(np.float64)\n",
        "stock_price_load[\"AdjustmentClose\"] = stock_price_load[\"AdjustmentClose\"].astype(np.float64)\n",
        "stock_price_load[\"AdjustmentFactor\"] = stock_price_load[\"AdjustmentFactor\"].astype(np.float64)\n",
        "stock_price_load[\"AdjustmentVolume\"] = stock_price_load[\"AdjustmentVolume\"].astype(np.float64)\n",
        "stock_price_load[\"TurnoverValue\"] = stock_price_load[\"TurnoverValue\"].astype(np.float64)\n",
        "\n",
        "# 累積調整係数を作成します\n",
        "# memo: 調整後終値とは https://support.yahoo-net.jp/PccFinance/s/article/H000006678\n",
        "def generate_cumulative_adjustment_factor(df):\n",
        "   # 分割併合等の係数を適用日に変更\n",
        "   df.loc[:, \"AdjustmentFactor\"] = df[\"AdjustmentFactor\"].shift(-1).fillna(1.0)\n",
        " \n",
        "   # 調整係数を作成するために逆順にソートする\n",
        "   df = df.sort_values(\"Date\", ascending=False)\n",
        "   # 累積株価調整係数を作成\n",
        "   df.loc[:, \"EndOfDayQuote CumulativeAdjustmentFactor\"] = 1 / df[\"AdjustmentFactor\"].cumprod()\n",
        "   # ソート順を昇順にする\n",
        "   df = df.sort_values(\"Date\")\n",
        " \n",
        "   return df\n",
        "# 累積調整係数を追加\n",
        "stock_price_load = stock_price_load.sort_values([\"Code\", \"Date\"])\n",
        "stock_price_load = stock_price_load.groupby(\"Code\", group_keys=True).apply(generate_cumulative_adjustment_factor).reset_index(drop=True)\n",
        "\n",
        "# 普通株 (5桁で末尾が0) の銘柄コードを4桁にします\n",
        "stock_price_load.loc[(stock_price_load[\"Code\"].str.len() == 5) & (stock_price_load[\"Code\"].str[-1] == \"0\"), \"Code\"] = stock_price_load.loc[(stock_price_load[\"Code\"].str.len() == 5) & (stock_price_load[\"Code\"].str[-1] == \"0\"), \"Code\"].str[:-1]\n",
        "stock_price_load[\"Code\"] = stock_price_load[\"Code\"].astype(int)"
      ]
    },
    {
      "cell_type": "code",
      "execution_count": null,
      "metadata": {
        "id": "CAJSrS_TEOEX",
        "pycharm": {
          "name": "#%%\n"
        }
      },
      "outputs": [],
      "source": [
        "# stock_fin(財務情報)\n",
        "\n",
        "# 財務情報のいくつかがobject型になっているので数値型に変換\n",
        "numeric_cols_fin = [\n",
        "    'NetSales', 'OperatingProfit', 'OrdinaryProfit', 'Profit', 'EarningsPerShare', 'DilutedEarningsPerShare', 'TotalAssets', 'Equity', 'EquityToAssetRatio', \n",
        "    'BookValuePerShare', 'CashFlowsFromOperatingActivities', 'CashFlowsFromInvestingActivities', 'CashFlowsFromFinancingActivities', 'CashAndEquivalents',\n",
        "    'AverageNumberOfShares', 'ResultDividendPerShare1stQuarter','ResultDividendPerShare2ndQuarter','ResultDividendPerShare3rdQuarter',\n",
        "    'ResultDividendPerShareFiscalYearEnd', 'ResultDividendPerShareAnnual','ResultTotalDividendPaidAnnual', 'ResultPayoutRatioAnnual',\n",
        "    'ForecastDividendPerShare1stQuarter', 'ForecastDividendPerShare2ndQuarter', 'ForecastDividendPerShare3rdQuarter', 'ForecastDividendPerShareFiscalYearEnd',\n",
        "    'ForecastDividendPerShareAnnual', 'ForecastEarningsPerShare', 'ForecastTotalDividendPaidAnnual', 'ForecastPayoutRatioAnnual',\n",
        "    'ForecastNetSales', 'ForecastOperatingProfit', 'ForecastOrdinaryProfit', 'ForecastProfit', 'NextYearForecastNetSales', 'NextYearForecastOperatingProfit',\n",
        "    'NextYearForecastOrdinaryProfit', 'NextYearForecastProfit', 'NumberOfIssuedAndOutstandingSharesAtTheEndOfFiscalYearIncludingTreasuryStock'\n",
        "]\n",
        "stock_fin_load[numeric_cols_fin] = stock_fin_load[numeric_cols_fin].apply(pd.to_numeric, errors='coerce', axis=1)\n",
        "\n",
        "# 財務情報のobject型をdatetime64[ns]型に変換\n",
        "stock_fin_load[\"DisclosedDate\"] = pd.to_datetime(stock_fin_load[\"DisclosedDate\"]) #開示\n",
        "stock_fin_load[\"CurrentFiscalYearEndDate\"] = pd.to_datetime(stock_fin_load[\"CurrentFiscalYearEndDate\"])  # 当事業年度終了日\n",
        "stock_fin_load[\"CurrentFiscalYearStartDate\"] = pd.to_datetime(stock_fin_load[\"CurrentFiscalYearStartDate\"])  # 当事業年度開始日\n",
        "stock_fin_load[\"CurrentPeriodStartDate\"] = pd.to_datetime(stock_fin_load[\"CurrentPeriodStartDate\"]) # 当会計期間終了日\n",
        "stock_fin_load[\"CurrentPeriodEndDate\"] = pd.to_datetime(stock_fin_load[\"CurrentPeriodEndDate\"]) # 当会計期間終了日\n",
        "stock_fin_load[\"NextFiscalYearStartDate\"] = pd.to_datetime(stock_fin_load[\"NextFiscalYearStartDate\"]) # 当会計期間終了日\n",
        "stock_fin_load[\"NextFiscalYearEndDate\"] = pd.to_datetime(stock_fin_load[\"NextFiscalYearEndDate\"]) # 当会計期間終了日\n",
        "\n",
        "# 財務情報の値を調整します\n",
        "stock_fin_load[\"Result_FinancialStatement FiscalYear\"] = stock_fin_load[\"CurrentFiscalYearEndDate\"].dt.strftime(\"%Y\")\n",
        "\n",
        "# 財務情報の同一日に複数レコードが存在することに対応します。\n",
        "# ある銘柄について同一日に複数の開示が行われた場合レコードが重複します。\n",
        "# ここでは簡易的に処理するために特定のTypeOfDocumentを削除した後に、開示時間順に並べて一番最後に発表された開示情報を採用しています。\n",
        "stock_fin_load = stock_fin_load.loc[~stock_fin_load[\"TypeOfDocument\"].isin([\"DividendForecastRevision\", \"EarnForecastRevision\", \"REITDividendForecastRevision\", \"REITEarnForecastRevision\", \"FYFinancialStatements_Consolidated_REIT\"])]\n",
        "stock_fin_load = stock_fin_load.sort_values([\"DisclosedDate\", \"DisclosedTime\", \"Profit\"]).drop_duplicates(subset=[\"LocalCode\", \"DisclosedDate\"], keep=\"first\")\n",
        "\n",
        "# 普通株 (5桁で末尾が0) の銘柄コードを4桁にします\n",
        "stock_fin_load.loc[(stock_fin_load[\"LocalCode\"].str.len() == 5) & (stock_fin_load[\"LocalCode\"].str[-1] == \"0\"), \"LocalCode\"] = stock_fin_load.loc[(stock_fin_load[\"LocalCode\"].str.len() == 5) & (stock_fin_load[\"LocalCode\"].str[-1] == \"0\"), \"LocalCode\"].str[:-1]\n",
        "stock_fin_load[\"LocalCode\"] = stock_fin_load[\"LocalCode\"].astype(int)"
      ]
    },
    {
      "cell_type": "code",
      "execution_count": null,
      "metadata": {
        "id": "-NAOIky1cD3-",
        "pycharm": {
          "name": "#%%\n"
        }
      },
      "outputs": [],
      "source": [
        "# stock_list(銘柄一覧)\n",
        "\n",
        "# 普通株 (5桁で末尾が0) の銘柄コードを4桁にします\n",
        "stock_list_load.loc[(stock_list_load[\"Code\"].str.len() == 5) & (stock_list_load[\"Code\"].str[-1] == \"0\"), \"Code\"] = stock_list_load.loc[(stock_list_load[\"Code\"].str.len() == 5) & (stock_list_load[\"Code\"].str[-1] == \"0\"), \"Code\"].str[:-1]\n",
        "stock_list_load[\"Code\"] = stock_list_load[\"Code\"].astype(int)\n",
        "\n",
        "# 銘柄一覧と株価データから予測対象列を作成します\n",
        "# prediction_target は、プライム(111)、スタンダード(112)、グロース(113)の 2022-01-01 以降の売買代金上位2000銘柄とします\n",
        "target_list = stock_list_load.loc[stock_list_load[\"MarketCode\"].isin([\"0111\", \"0112\", \"0113\"]), \"Code\"]\n",
        "pred_targets = (stock_price_load.loc[(stock_price_load[\"Date\"] >= \"2022-01-01\") & (stock_price_load[\"Code\"].isin(target_list)), [\"Code\", \"TurnoverValue\"]].groupby(\"Code\").sum()).sort_values(\"TurnoverValue\", ascending=False).head(2000).index\n",
        "\n",
        "stock_list_load[\"prediction_target\"] = stock_list_load[\"Code\"].isin(pred_targets)\n",
        "# universe_comp2 は、プライム、スタンダード、グロースの 2022-08-01 時点の時価総額上位2000銘柄とします\n",
        "df_atp = stock_price_load.loc[stock_price_load[\"Date\"] == \"2022-08-01\", [\"Code\", \"AdjustmentClose\"]]\n",
        "df_atp = df_atp.loc[df_atp[\"Code\"].isin(target_list)]\n",
        "\n",
        "\n",
        "def _nos(df):\n",
        "    df = df.sort_values([\"DisclosedDate\", \"DisclosedTime\"])\n",
        "    df = df.ffill()\n",
        "    df = df.tail(1)\n",
        "    return df\n",
        "\n",
        "df_nos = stock_fin_load.groupby(\"LocalCode\")[[\"DisclosedDate\", \"DisclosedTime\", \"NumberOfIssuedAndOutstandingSharesAtTheEndOfFiscalYearIncludingTreasuryStock\"]].apply(_nos)\n",
        "df_nos = df_nos.reset_index()\n",
        "df_mcap = pd.merge(df_atp, df_nos, left_on=[\"Code\"], right_on=[\"LocalCode\"], how=\"inner\")\n",
        "df_mcap[\"mcap\"] = df_mcap[\"AdjustmentClose\"] * df_mcap[\"NumberOfIssuedAndOutstandingSharesAtTheEndOfFiscalYearIncludingTreasuryStock\"]\n",
        "universe_comp2 = sorted(df_mcap.sort_values(\"mcap\").tail(2000)[\"Code\"])\n",
        "stock_list_load[\"universe_comp2\"] = stock_list_load[\"Code\"].isin(universe_comp2)\n"
      ]
    },
    {
      "cell_type": "code",
      "execution_count": null,
      "metadata": {
        "id": "mgSgmblgR-PM",
        "pycharm": {
          "name": "#%%\n"
        }
      },
      "outputs": [],
      "source": [
        "# stock_list: データの互換性のための各種列名変換など\n",
        "stock_list: pd.DataFrame = pd.DataFrame()\n",
        "stock_list[\"Local Code\"] = stock_list_load[\"Code\"]\n",
        "stock_list[\"Name (English)\"] = stock_list_load[\"CompanyName\"]  # 英語名の代わりに日本語名を設定\n",
        "stock_list[\"Section/Products\"] = stock_list_load[\"MarketCodeName\"]\n",
        "stock_list[\"33 Sector(Code)\"] = stock_list_load[\"Sector33Code\"]\n",
        "stock_list[\"33 Sector(Name)\"] = stock_list_load[\"Sector33CodeName\"]\n",
        "stock_list[\"17 Sector(Code)\"] = stock_list_load[\"Sector17Code\"]\n",
        "stock_list[\"17 Sector(Name)\"] = stock_list_load[\"Sector17CodeName\"]\n",
        "stock_list[\"Size (New Index Series)\"] = stock_list_load[\"ScaleCategory\"]\n",
        "stock_list[\"prediction_target\"] = stock_list_load[\"prediction_target\"]\n",
        "stock_list[\"universe_comp2\"] = stock_list_load[\"universe_comp2\"]"
      ]
    },
    {
      "cell_type": "code",
      "execution_count": null,
      "metadata": {
        "id": "7GtFRSQfGmWF",
        "pycharm": {
          "name": "#%%\n"
        }
      },
      "outputs": [],
      "source": [
        "# stock_price: データの互換性のための各種列名変換など\n",
        "stock_price: pd.DataFrame = pd.DataFrame()\n",
        "stock_price[\"Local Code\"] = stock_price_load[\"Code\"]\n",
        "#stock_price[\"Date\"] = stock_price_load[\"Date\"]\n",
        "stock_price[\"base_date\"] = stock_price_load[\"Date\"]\n",
        "stock_price['EndOfDayQuote Date'] = stock_price_load[\"Date\"]\n",
        "stock_price[\"EndOfDayQuote Open\"] = stock_price_load[\"AdjustmentOpen\"]\n",
        "stock_price[\"EndOfDayQuote High\"] = stock_price_load[\"AdjustmentHigh\"]\n",
        "stock_price[\"EndOfDayQuote Low\"] = stock_price_load[\"AdjustmentLow\"]\n",
        "stock_price[\"EndOfDayQuote Close\"] = stock_price_load[\"AdjustmentClose\"]\n",
        "stock_price[\"EndOfDayQuote ExchangeOfficialClose\"] = stock_price_load[\"AdjustmentClose\"]\n",
        "stock_price[\"EndOfDayQuote Volume\"] = stock_price_load[\"AdjustmentVolume\"]\n",
        "stock_price[\"EndOfDayQuote CumulativeAdjustmentFactor\"] = stock_price_load[\"EndOfDayQuote CumulativeAdjustmentFactor\"]\n",
        "\n",
        "stock_price.sort_values([\"Local Code\", \"base_date\"], inplace=True)\n",
        "# ExchangeOfficialClose は欠損値がある場合は前日終値とします\n",
        "stock_price[\"EndOfDayQuote ExchangeOfficialClose\"] = stock_price.groupby([\"Local Code\"])[\"EndOfDayQuote ExchangeOfficialClose\"].ffill()\n",
        "# 前日終値の列を終値列から作成\n",
        "stock_price[\"EndOfDayQuote PreviousClose\"] = stock_price.groupby([\"Local Code\"])[\"EndOfDayQuote Close\"].shift(1)"
      ]
    },
    {
      "cell_type": "code",
      "execution_count": null,
      "metadata": {
        "id": "YxCBYNiqG8i8",
        "pycharm": {
          "name": "#%%\n"
        }
      },
      "outputs": [],
      "source": [
        "# stock_financial: データの互換性のための各種列名変換など\n",
        "stock_fin: pd.DataFrame = pd.DataFrame()\n",
        "stock_fin[\"Local Code\"] = stock_fin_load[\"LocalCode\"]\n",
        "stock_fin[\"Result_FinancialStatement FiscalPeriodEnd\"] = stock_fin_load[\"CurrentPeriodEndDate\"].dt.strftime(\"%Y/%m\")\n",
        "stock_fin[\"Result_FinancialStatement TotalAssets\"] = stock_fin_load[\"TotalAssets\"] # 総資産\n",
        "stock_fin[\"Result_FinancialStatement NetAssets\"] = stock_fin_load[\"Equity\"] # 純資産\n",
        "stock_fin[\"Result_FinancialStatement NetSales\"] = stock_fin_load[\"NetSales\"] # 純売上高\n",
        "stock_fin[\"Result_FinancialStatement OperatingIncome\"] = stock_fin_load[\"OperatingProfit\"] # 営業利益\n",
        "stock_fin[\"Result_FinancialStatement OrdinaryIncome\"] = stock_fin_load[\"OrdinaryProfit\"]  # 経常利益\n",
        "stock_fin[\"Result_FinancialStatement NetIncome\"] = stock_fin_load[\"Profit\"]  # 当期純利益\n",
        "stock_fin[\"Result_FinancialStatement ReportType\"] = stock_fin_load[\"TypeOfCurrentPeriod\"] # {\"1Q\", \"2Q\", \"3Q\", \"FY\"}\n",
        "stock_fin[\"Result_FinancialStatement FiscalYear\"] = stock_fin_load[\"Result_FinancialStatement FiscalYear\"] \n",
        "stock_fin[\"Result_FinancialStatement EarningsPerShare\"] = stock_fin_load[\"EarningsPerShare\"]\n",
        "stock_fin[\"Result_FinancialStatement CashFlowsFromOperatingActivities\"] = stock_fin_load[\"CashFlowsFromOperatingActivities\"]\n",
        "stock_fin[\"Result_FinancialStatement CashFlowsFromInvestingActivities\"] = stock_fin_load[\"CashFlowsFromInvestingActivities\"]\n",
        "stock_fin[\"Result_FinancialStatement CashFlowsFromFinancingActivities\"] = stock_fin_load[\"CashFlowsFromFinancingActivities\"]\n",
        "stock_fin[\"base_date\"] = stock_fin_load[\"DisclosedDate\"] # 開示日\n",
        "stock_fin[\"TypeOfDocument\"] = stock_fin_load[\"TypeOfDocument\"] # 書類種別\n",
        "stock_fin[\"RetrospectiveRestatement\"] = stock_fin_load[\"RetrospectiveRestatement\"] #修正再表示フラグ\n",
        "stock_fin[\"Forecast_FinancialStatement FiscalPeriodEnd\"] = stock_fin_load[\"CurrentFiscalYearEndDate\"].dt.strftime(\"%Y/%m\")\n",
        "stock_fin.loc[stock_fin[\"Result_FinancialStatement ReportType\"] == \"FY\", \"Forecast_FinancialStatement FiscalPeriodEnd\"] = (\n",
        "    stock_fin_load[\"CurrentFiscalYearEndDate\"] + pd.Timedelta(365, unit=\"D\")\n",
        ").dt.strftime(\"%Y/%m\")  # 本決算の場合は次の年度予想なので1年後の日付にします\n",
        "stock_fin[\"Forecast_FinancialStatement ReportType\"] = \"FY\"  #  予想は通期固定\n",
        "stock_fin[\"Forecast_FinancialStatement NetSales\"] = stock_fin_load[\"ForecastNetSales\"]\n",
        "stock_fin.loc[stock_fin[\"Result_FinancialStatement ReportType\"] == \"FY\", \"Forecast_FinancialStatement NetSales\"] = stock_fin_load[\"NextYearForecastNetSales\"]\n",
        "\n",
        "stock_fin[\"Forecast_FinancialStatement OperatingIncome\"] = stock_fin_load[\"ForecastOperatingProfit\"]\n",
        "stock_fin.loc[stock_fin[\"Result_FinancialStatement ReportType\"] == \"FY\", \"Forecast_FinancialStatement OperatingIncome\"] = stock_fin_load[\"NextYearForecastOperatingProfit\"]\n",
        "\n",
        "stock_fin[\"Forecast_FinancialStatement OrdinaryIncome\"] = stock_fin_load[\"ForecastOrdinaryProfit\"]\n",
        "stock_fin.loc[stock_fin[\"Result_FinancialStatement ReportType\"] == \"FY\", \"Forecast_FinancialStatement OrdinaryIncome\"] = stock_fin_load[\"NextYearForecastOrdinaryProfit\"]\n",
        "\n",
        "stock_fin[\"Forecast_FinancialStatement NetIncome\"] = stock_fin_load[\"ForecastProfit\"]\n",
        "stock_fin.loc[stock_fin[\"Result_FinancialStatement ReportType\"] == \"FY\", \"Forecast_FinancialStatement NetIncome\"] = stock_fin_load[\"NextYearForecastProfit\"]"
      ]
    },
    {
      "cell_type": "markdown",
      "metadata": {
        "id": "PutHVi--7Uts",
        "pycharm": {
          "name": "#%% md\n"
        }
      },
      "source": [
        "目的変数を作成します。lookaheadsの値など次第で40分程度かかることがあります。"
      ]
    },
    {
      "cell_type": "code",
      "execution_count": null,
      "metadata": {
        "id": "57VQLikJ7Thm",
        "pycharm": {
          "name": "#%%\n"
        }
      },
      "outputs": [],
      "source": [
        "def create_label_high_low(stock_code:int, target_date:datetime, lookaheads:List[int], stock_price:pd.DataFrame):\n",
        "   #memo: 例えばtarget_dateが2022-08-01, lookaheads=[1,5,10]だった場合、stock_priceは2022-08-01より10営業日先のデータまではいってないといけない\n",
        "\n",
        "   #df_price = stock_price.loc[(stock_price[\"Local Code\"] == stock_code) & (stock_price[\"base_date\"] <= target_date)].copy()\n",
        "   df_price = stock_price.loc[stock_price[\"Local Code\"] == stock_code].copy()\n",
        "\n",
        "   output_columns = [\"base_date\", \"Local Code\"]\n",
        "   for lookahead in lookaheads:\n",
        "       output_columns.append(\"label_date_{}\".format(lookahead))\n",
        "       output_columns.append(\"label_high_{}\".format(lookahead))\n",
        "       output_columns.append(\"label_low_{}\".format(lookahead))\n",
        "       t_col = \"label_date_{}\".format(lookahead)\n",
        "       df_price.loc[:, t_col] = df_price.loc[:, \"base_date\"].shift(-lookahead)\n",
        "\n",
        "   if len(df_price) == 0:\n",
        "       return pd.DataFrame(None, columns=output_columns)\n",
        "\n",
        "   for lookahead in lookaheads:\n",
        "       # df_high_high: base_dateからn営業日の間の高値の最大値\n",
        "       df_high_high = df_price.loc[:, \"EndOfDayQuote High\"].rolling(lookahead, min_periods=1).max()\n",
        "       df_high_high = df_high_high.shift(-lookahead)\n",
        "       df_high_high_diff = df_high_high - df_price.loc[:, \"EndOfDayQuote ExchangeOfficialClose\"]\n",
        "       df_price.loc[:, \"label_high_{}\".format(lookahead)] = df_high_high_diff / df_price.loc[:, \"EndOfDayQuote ExchangeOfficialClose\"]\n",
        "\n",
        "       # df_low_low: base_dateからn営業日の間の安値の最小値\n",
        "       df_low_low = df_price.loc[:, \"EndOfDayQuote Low\"].rolling(lookahead, min_periods=1).min()\n",
        "       df_low_low = df_low_low.shift(-lookahead)\n",
        "       df_low_low_diff = df_low_low - df_price.loc[:, \"EndOfDayQuote ExchangeOfficialClose\"]\n",
        "       df_price.loc[:, \"label_low_{}\".format(lookahead)] = df_low_low_diff / df_price.loc[:, \"EndOfDayQuote ExchangeOfficialClose\"]\n",
        "\n",
        "   df_price.replace(np.inf, np.nan, inplace=True)\n",
        "   df_price = df_price[df_price[\"base_date\"] <= target_date]\n",
        "   return df_price.loc[:, output_columns]\n",
        "\n",
        "def create_delivery_label_high_low(stock_codes:List[int], target_date:pd.Timestamp, lookaheads:List[int], stock_price:pd.DataFrame):\n",
        "   buff = []\n",
        "   for stock_code in stock_codes:\n",
        "       df = create_label_high_low(stock_code, target_date, lookaheads, stock_price)\n",
        "       buff.append(df)\n",
        "   df_labels = pd.concat(buff)\n",
        "   return df_labels\n",
        "\n",
        "def output_stock_labels(stock_labels_csvfile_path:str, df_labels:pd.DataFrame, output_start_dt, end_dt:datetime, lookaheads:List[int]):\n",
        "   df_labels = df_labels.set_index(\"base_date\")\n",
        "   df_labels = df_labels.loc[df_labels.index <= end_dt].copy()\n",
        "   df_labels.index.name = \"base_date\"\n",
        "   df_labels_output = df_labels.loc[(df_labels.index >= output_start_dt) & (df_labels.index <= end_dt)]\n",
        "\n",
        "   label_output_columns = [\"Local Code\"]\n",
        "   for lookahead in lookaheads:\n",
        "       label_output_columns.append(\"label_date_{}\".format(lookahead))\n",
        "       label_output_columns.append(\"label_high_{}\".format(lookahead))\n",
        "       label_output_columns.append(\"label_low_{}\".format(lookahead))\n",
        "\n",
        "   df_labels_output.to_csv(stock_labels_csvfile_path, compression=\"gzip\", float_format=\"%.5f\", columns=label_output_columns)\n",
        "\n",
        "stock_codes = sorted(stock_price[\"Local Code\"].unique())\n",
        "\n",
        "stock_labels = create_delivery_label_high_low(stock_codes, end_dt, lookaheads, stock_price)"
      ]
    },
    {
      "cell_type": "markdown",
      "metadata": {
        "collapsed": false,
        "id": "b0cTjYpcGJvf",
        "pycharm": {
          "name": "#%% md\n"
        }
      },
      "source": [
        "## GoogleDriveへのCSV保存\n",
        "\n",
        "取得したデータをcsv.gz形式で保存します。\n",
        "stock_priceおよびstock_listが巨大なファイル（非圧縮, 2017-01-01〜2022-07-31の期間だと540MB程度)なので、保存には10分ほどかかることがあります。"
      ]
    },
    {
      "cell_type": "code",
      "execution_count": null,
      "metadata": {
        "id": "JHQwYAw-GJvf",
        "pycharm": {
          "name": "#%%\n"
        }
      },
      "outputs": [],
      "source": [
        "stock_list.to_csv(stock_list_csvfile_path, compression=\"gzip\", index=False)\n",
        "stock_price.to_csv(stock_price_csvfile_path, compression=\"gzip\", index=False)\n",
        "stock_fin.to_csv(stock_fins_csvfile_path, compression=\"gzip\", index=False)\n",
        "output_stock_labels(stock_labels_csvfile_path, stock_labels, start_dt, end_dt, lookaheads)"
      ]
    },
    {
      "cell_type": "markdown",
      "source": [
        "# J-Quantsチュートリアル\n",
        "\n",
        "ここからは、取得したデータを用いて J-Quants株式分析チュートリアルの第2章の内容を再現していきます。\n",
        "https://github.com/JapanExchangeGroup/J-Quants-Tutorial/blob/main/handson/Chapter02/20210121-chapter02-tutorial.ipynb"
      ],
      "metadata": {
        "id": "-SnjQ6qWvcuC"
      }
    },
    {
      "cell_type": "markdown",
      "source": [
        "### コンペティション課題の説明"
      ],
      "metadata": {
        "id": "fDOGpXxfFCF7"
      }
    },
    {
      "cell_type": "markdown",
      "source": [
        "予測対象は、東証上場企業が、決算短信を発表した後の20営業日の期間における、当該企業の株価の最高値及び最安値です。   \n",
        "上場企業は決算期末を含め四半期毎に決算内容が定まった際、決算内容の開示が義務付けられています。  \n",
        "決算の内容として開示される決算短信には財務諸表が添付されており、財務諸表は企業のファンダメンタル情報を含む複数の表で構成されています。\n",
        "\n",
        "<img src=\"https://drive.google.com/uc?export=view&id=1JMYkYbbkFUNjiANJPfC49aLLRo7ERVk5\">"
      ],
      "metadata": {
        "id": "G9__h25NFF4i"
      }
    },
    {
      "cell_type": "markdown",
      "source": [
        "### データセットの説明\n",
        "\n",
        "|ファイル名|概要|\n",
        "|:-|:-|\n",
        "|stock_list|各銘柄の情報が記録されたデータ|\n",
        "|stock_price|各銘柄の株価情報（始値・高値・安値・終値等）が記録されたデータ|\n",
        "|stock_fin|各銘柄のファンダメンタル情報（決算数値データや配当データ等）が記録されたデータ|\n",
        "|stock_labels|本コンペティションで学習に用いるラベル（目的変数）が記録されたデータ|"
      ],
      "metadata": {
        "id": "YrSX5uP9Hpgh"
      }
    },
    {
      "cell_type": "markdown",
      "source": [
        "### データ読み込み"
      ],
      "metadata": {
        "id": "RdoMh3FnftVU"
      }
    },
    {
      "cell_type": "code",
      "execution_count": null,
      "metadata": {
        "id": "sqp-WTvffuuR",
        "pycharm": {
          "name": "#%%\n"
        }
      },
      "outputs": [],
      "source": [
        "# 追加で必要なライブラリのインストール・インポート\n",
        "!pip install shap\n",
        "\n",
        "import sys\n",
        "import seaborn as sns\n",
        "import shap\n",
        "import xgboost\n",
        "from scipy.stats import spearmanr\n",
        "import matplotlib\n",
        "import matplotlib.pyplot as plt\n",
        "from tqdm.auto import tqdm\n",
        "from sklearn.ensemble import (\n",
        "    ExtraTreesRegressor,\n",
        "    GradientBoostingRegressor,\n",
        "    RandomForestRegressor,\n",
        ")\n",
        "from sklearn.metrics import accuracy_score, mean_squared_error\n",
        "import pickle\n",
        "import pandas as pd\n",
        "import plotly.graph_objects as go\n",
        "import plotly.express as px\n",
        "\n",
        "pd.set_option(\"display.max_columns\", None)"
      ]
    },
    {
      "cell_type": "code",
      "execution_count": null,
      "metadata": {
        "id": "V2G18o1t6U97"
      },
      "outputs": [],
      "source": [
        "# 保存したファイルからデータの読み込みをする場合はコメントを外してください\n",
        "stock_list = pd.read_csv(stock_list_csvfile_path)\n",
        "stock_price = pd.read_csv(stock_price_csvfile_path)\n",
        "stock_price[\"base_date\"] = pd.to_datetime(stock_price[\"base_date\"])\n",
        "stock_fin = pd.read_csv(stock_fins_csvfile_path)\n",
        "stock_fin[\"base_date\"] = pd.to_datetime(stock_fin[\"base_date\"])\n",
        "stock_labels = pd.read_csv(stock_labels_csvfile_path)\n",
        "stock_labels[\"base_date\"] = pd.to_datetime(stock_labels[\"base_date\"])"
      ]
    },
    {
      "cell_type": "code",
      "execution_count": null,
      "metadata": {
        "id": "oyCFhWK5A8i_",
        "pycharm": {
          "name": "#%%\n"
        }
      },
      "outputs": [],
      "source": [
        "# 日時を各データフレームのインデックスに設定しておきます\n",
        "stock_price.set_index(\"base_date\", inplace=True)\n",
        "stock_fin.set_index(\"base_date\", inplace=True)\n",
        "stock_labels.set_index(\"base_date\", inplace=True)"
      ]
    },
    {
      "cell_type": "markdown",
      "source": [],
      "metadata": {
        "id": "-CTM-OGAJsCb"
      }
    },
    {
      "cell_type": "markdown",
      "metadata": {
        "collapsed": false,
        "id": "-vyZWqlwfuuR",
        "pycharm": {
          "name": "#%% md\n"
        }
      },
      "source": [
        "### Data Exploring\n",
        "\n"
      ]
    },
    {
      "cell_type": "markdown",
      "source": [
        "#### 銘柄情報（stock_list）\n",
        "\n",
        "stock_listは、銘柄の名前や業種区分などの基本情報が含まれています。  \n",
        "発行済株式数は、会社が発行することをあらかじめ定款に定めている株式数（授権株式数）のうち、会社が既に発行した株式数のことです。  \n",
        "発行済株式数と株価とかけ合わせて時価総額を計算することができます。  \n",
        "時価総額は企業価値を評価する際に用いられる重要な指標です。  \n",
        "業種区分情報は、マーケットにおける業種別の平均などを計算する時に役立つ情報です。  \n",
        "33業種は証券コード協議会が定めており、17業種はTOPIX-17シリーズとして「投資利便性を考慮して17業種に再編したもの」(JPX東証33業種別株価指数・TOPIX-17シリーズファクトシートより引用 https://www.jpx.co.jp/markets/indices/line-up/index.html) です。\n",
        "\n",
        "#### Chapter 2.2.1の表"
      ],
      "metadata": {
        "id": "wzS4qA4JJ1F1"
      }
    },
    {
      "cell_type": "code",
      "execution_count": null,
      "metadata": {
        "id": "TPPp1gPOfuuR",
        "pycharm": {
          "name": "#%%\n"
        }
      },
      "outputs": [],
      "source": [
        "print(stock_list.shape)\n",
        "stock_list.tail(20)"
      ]
    },
    {
      "cell_type": "markdown",
      "source": [
        "#### 株価情報(stock_price)\n",
        "\n",
        "stock_priceには各銘柄の各日付の始値や終値などの株価情報が記録されています。  \n",
        "テクニカル分析などで終値ベースの分析を実施する場合は、ExchangeOfficialCloseを利用します。  \n",
        "ここでいうテクニカル分析というのは、マーケットデータから計算される指標に基づいた分析のことです。  \n",
        "また、終値ベースの分析とは、マーケットデータの中でも、終値のみを用いた分析を表しています。\n",
        "\n",
        "株価情報は、「株式分割」や「株式併合」が発生した際に生じる株価の変動を、株式数の変化率に応じて調整されています。  \n",
        "特徴量の定義によっては、その日付時点で実際に取引された株価や出来高を取得したい場合がありますが、その場合累積調整係数を使用して  \n",
        "[調整前株価] = [調整済株価] * [累積調整係数] 及び [調整前出来高] = [調整済出来高] / [累積調整係数]  \n",
        "という計算で算出可能です。\n",
        "\n",
        "#### Chapter 2.2.2の表"
      ],
      "metadata": {
        "id": "pR8O-j1vKsoG"
      }
    },
    {
      "cell_type": "code",
      "execution_count": null,
      "metadata": {
        "id": "ebphxm8GfuuR",
        "pycharm": {
          "name": "#%%\n"
        }
      },
      "outputs": [],
      "source": [
        "print(stock_price.shape)\n",
        "stock_price.head(10)"
      ]
    },
    {
      "cell_type": "markdown",
      "source": [
        "#### 財務情報(stock_fin)\n",
        "\n",
        "株式投資における ファンダメンタル情報 とは、対象銘柄の純資産といった財務状況や当期純利益といった業績状況を表す情報のことです。  \n",
        "ファンダメンタル情報を用いて、各銘柄の成長性、収益性、安全性、割安度などの投資判断に活用することができます。  \n",
        "ファンダメンタル情報を利用した解析は、さまざまな手法が考案されています。\n",
        "\n",
        "ファンダメンタル情報のデータセットであるstock_finにおいて、  \n",
        "いくつかの変数名は`Forecast`から始まっていますが、これらは各企業が来期の自社の業績・財務状況を予想したデータです。  \n",
        "例えば、企業が来期の業績が厳しいことが予め分かっている場合には、予想として早めに開示することがあるため、予想のデータも重要な可能性があります。\n",
        "\n",
        "#### Chapter 2.2.3の表"
      ],
      "metadata": {
        "id": "q0kVVRDcMLdu"
      }
    },
    {
      "cell_type": "code",
      "execution_count": null,
      "metadata": {
        "id": "YkDidQUgfuuR",
        "pycharm": {
          "name": "#%%\n"
        }
      },
      "outputs": [],
      "source": [
        "print(stock_fin.shape)\n",
        "stock_fin.head(10)"
      ]
    },
    {
      "cell_type": "markdown",
      "metadata": {
        "collapsed": false,
        "id": "37QSaNN8fuuR",
        "pycharm": {
          "name": "#%% md\n"
        }
      },
      "source": [
        "#### 目的変数(stock_labels)\n",
        "stock_labelsは予測の目的変数のデータであり、各銘柄で決算発表が行われた日の取引所公式終値から、  \n",
        "その日の翌営業日以降N（20）営業日間における最高値及び最安値への変化率を記録したデータです。  \n",
        "\n",
        "各値の計算式は、 ([基準日付の翌日以降N営業日間における高値/安値] / [基準日付の終値]) - 1 です。  \n",
        "なお、ラベルの対象期間 (20営業日の間) に値が付かなかった場合は、ラベルを NaN としております。\n",
        "\n",
        "#### Chapter 2.2.5の表"
      ]
    },
    {
      "cell_type": "code",
      "execution_count": null,
      "metadata": {
        "id": "QnIiJKiNfuuR",
        "pycharm": {
          "name": "#%%\n"
        }
      },
      "outputs": [],
      "source": [
        "print(stock_labels.shape)\n",
        "stock_labels.head(10)"
      ]
    },
    {
      "cell_type": "markdown",
      "metadata": {
        "collapsed": false,
        "id": "A_Nz5gokfuuR",
        "pycharm": {
          "name": "#%% md\n"
        }
      },
      "source": [
        "### Visualization\n",
        "\n",
        "データセットの各項目の特徴を把握することは、モデルを作成する上で重要な要素の1つです。  \n",
        "一般にデータの特徴を把握するためには、各項目の意味を把握し、値の平均や標準偏差などの基本統計量を確認します。  \n",
        "可視化もそういった特徴把握の手法の1つで、データをグラフなどで表現することで特性を直感的に理解できるようになります。"
      ]
    },
    {
      "cell_type": "markdown",
      "source": [
        "#### Chapter 2.5.1 売上高、営業利益、純利益、純資産及びその決算期の間の関係について可視化"
      ],
      "metadata": {
        "id": "-5nd62ecoPps"
      }
    },
    {
      "cell_type": "code",
      "execution_count": null,
      "metadata": {
        "id": "zfI490zHfuuS",
        "pycharm": {
          "name": "#%%\n"
        }
      },
      "outputs": [],
      "source": [
        "# stock_fin\n",
        "# 銘柄コード8697にデータを絞る\n",
        "code = 8697\n",
        "fin_data = stock_fin[stock_fin[\"Local Code\"] == code]\n",
        "\n",
        "# 2019年までの値を表示\n",
        "fin_data = fin_data[:\"2022\"]\n",
        "\n",
        "# プロット対象を定義\n",
        "columns = [\n",
        "    \"Result_FinancialStatement NetSales\",  # 売上高\n",
        "    \"Result_FinancialStatement OperatingIncome\",  # 営業利益\n",
        "    \"Result_FinancialStatement NetIncome\",  # 純利益\n",
        "    \"Result_FinancialStatement NetAssets\",  # 純資産\n",
        "]\n",
        "\n",
        "# プロット\n",
        "fig = px.scatter_matrix(\n",
        "    fin_data,\n",
        "    dimensions=columns,\n",
        "    color=\"Result_FinancialStatement ReportType\",\n",
        "    labels={col: col.split(\" \")[-1] for col in columns}\n",
        "    )\n",
        "fig.update_traces(diagonal_visible=False)\n",
        "fig.show()"
      ]
    },
    {
      "cell_type": "markdown",
      "source": [
        "上記のプロットについて、各色（緑、紫、青、オレンジ）はそれぞれQ1,Q2,Q3,Annualにおける決算の値に対応しており、また、その他のプロットは、各軸2つの変数の散布図を表しています。\n",
        "\n",
        "例えば、2行1列目のグラフを見ると、横軸が売上高、縦軸が営業利益になっています。  \n",
        "高い売上高は高い営業利益に繋がっています。\n",
        "\n",
        "また、決算期がQ1からQ3,本決算に至るまでに基本的に右肩上がりであることが分かります。  \n",
        "このことから財務データの純売上高や営業利益などの変数は、各決算期ごとの値ではなく、  \n",
        "各決算期を積み上げ式で記録されていると推測できます。"
      ],
      "metadata": {
        "id": "dkmymuOYSReI"
      }
    },
    {
      "cell_type": "markdown",
      "metadata": {
        "collapsed": false,
        "id": "DD0o0YgHfuuS",
        "pycharm": {
          "name": "#%% md\n"
        }
      },
      "source": [
        "#### Chapter 2.5.1 複数銘柄のファンダメンタル情報の比較"
      ]
    },
    {
      "cell_type": "code",
      "execution_count": null,
      "metadata": {
        "id": "rOgmMqhIfuuS",
        "pycharm": {
          "name": "#%%\n"
        }
      },
      "outputs": [],
      "source": [
        "# 銘柄コード9984と9983を比較する\n",
        "codes = [9984, 9983]\n",
        "\n",
        "multi_df = dict()\n",
        "\n",
        "# プロット対象を定義\n",
        "columns = [\n",
        "    \"Result_FinancialStatement NetSales\",  # 売上高\n",
        "    \"Result_FinancialStatement OperatingIncome\",  # 営業利益\n",
        "    \"Result_FinancialStatement NetIncome\",  # 純利益\n",
        "    \"Result_FinancialStatement NetAssets\",  # 純資産\n",
        "    \"Result_FinancialStatement ReportType\"  # 決算期\n",
        "]\n",
        "\n",
        "# 比較対象の銘柄コード毎に処理\n",
        "for code in codes:\n",
        "    # 特定の銘柄コードに絞り込み\n",
        "    fin_data = stock_fin[stock_fin[\"Local Code\"] == code]\n",
        "    # 2023年までの値を表示\n",
        "    fin_data = fin_data[:\"2023\"].copy()\n",
        "    # 重複を排除\n",
        "    fin_data.drop_duplicates(\n",
        "        subset=[\n",
        "            \"Local Code\",\n",
        "            \"Result_FinancialStatement FiscalYear\",\n",
        "            \"Result_FinancialStatement ReportType\"\n",
        "        ],\n",
        "        keep=\"last\", inplace=True)\n",
        "    # プロット対象のカラムを取得\n",
        "    _fin_data = fin_data[columns]\n",
        "    # 決算期毎の平均を取得\n",
        "    multi_df[code] = _fin_data[columns].groupby(\"Result_FinancialStatement ReportType\").mean()\n",
        "\n",
        "# 銘柄毎に処理していたものを結合\n",
        "multi_df = pd.concat(multi_df)\n",
        "# 凡例を調整\n",
        "multi_df.set_index(multi_df.index.map(lambda t: f\"{t[0]}/{t[1]}\"), inplace=True)\n",
        "# プロット\n",
        "fig = px.bar(multi_df.T, barmode='group')\n",
        "fig.show()"
      ]
    },
    {
      "cell_type": "markdown",
      "source": [
        "NetSales（売上高）とNetAssets（純資産）の特性の違いがわかります。  \n",
        "NetAssetsは一定の数値になっており、決算期の影響をあまり受けていないことがわかります。  \n",
        "一方、NetSalesはQ1からAnnualにかけて数値が積み上がっており、Q1から決算期が進むごとに大きくなる特性を持つことがわかります。"
      ],
      "metadata": {
        "id": "YGc8DHgZWDwi"
      }
    },
    {
      "cell_type": "markdown",
      "metadata": {
        "collapsed": false,
        "id": "CnhPNLwZfuuS",
        "pycharm": {
          "name": "#%% md\n"
        }
      },
      "source": [
        "#### Chapter 2.5.2 株価の終値の動き\n",
        "\n",
        "ここでは、サンプルとして銘柄コード9984の「ソフトバンクグループ」の終値の動きを可視化します。"
      ]
    },
    {
      "cell_type": "code",
      "execution_count": null,
      "metadata": {
        "id": "nYf5KMwrfuuS",
        "pycharm": {
          "name": "#%%\n"
        }
      },
      "outputs": [],
      "source": [
        "# 特定の銘柄コードに絞り込み\n",
        "code = 9984\n",
        "price_data = stock_price[stock_price[\"Local Code\"] == code]\n",
        "# 2023年までの値を表示\n",
        "price_data = price_data[:\"2023\"]\n",
        "\n",
        "fig = go.Figure(data=[\n",
        "    go.Scatter(x=price_data.index, y=price_data[\"EndOfDayQuote ExchangeOfficialClose\"], name=f\"securities code : {code}.T\"),\n",
        "])\n",
        "fig.show()"
      ]
    },
    {
      "cell_type": "markdown",
      "metadata": {
        "collapsed": false,
        "id": "A9FdAVFnfuuS",
        "pycharm": {
          "name": "#%% md\n"
        }
      },
      "source": [
        "#### Chapter 2.5.3 移動平均\n",
        "\n",
        "ここでは移動平均をプロットします。  \n",
        "移動平均にもさまざまな種類がありますが、ここでは単純移動平均線を用います。  \n",
        "単純移動平均線というのは、例えば、5日線であれば、直近5営業日の価格の平均値です。  \n",
        "これを1つずつ期間をスライドしながら計算したものになります。"
      ]
    },
    {
      "cell_type": "code",
      "execution_count": null,
      "metadata": {
        "id": "vEtqMXRsfuuS",
        "pycharm": {
          "name": "#%%\n"
        }
      },
      "outputs": [],
      "source": [
        "# 特定の銘柄コードに絞り込み\n",
        "code = 9984\n",
        "price_data = stock_price[stock_price[\"Local Code\"] == code]\n",
        "# 2019年までの値を表示\n",
        "price_data = price_data[:\"2023\"].copy()\n",
        "\n",
        "# 5日、25日、75日の移動平均を算出\n",
        "periods = [5, 25, 75]\n",
        "cols = []\n",
        "for period in periods:\n",
        "    col = \"{} windows simple moving average\".format(period)\n",
        "    price_data[col] = price_data[\"EndOfDayQuote ExchangeOfficialClose\"].rolling(period, min_periods=1).mean()\n",
        "    cols.append(col)\n",
        "\n",
        "fig = go.Figure()\n",
        "for col in cols:\n",
        "    fig.add_trace(go.Scatter(x=price_data.index, y=price_data[col], name=col))\n",
        "\n",
        "fig.show()"
      ]
    },
    {
      "cell_type": "markdown",
      "metadata": {
        "collapsed": false,
        "id": "ALuofUJKfuuS",
        "pycharm": {
          "name": "#%% md\n"
        }
      },
      "source": [
        "#### Chapter 2.5.4 価格変化率\n",
        "\n",
        "価格変化率は、価格がその期間でどれくらい変化したかを(%)で表現したものです。  \n",
        "相場の勢いや方向性等を判断する際によく使われます。\n"
      ]
    },
    {
      "cell_type": "code",
      "execution_count": null,
      "metadata": {
        "id": "4Ppe_4fpfuuS",
        "pycharm": {
          "name": "#%%\n"
        }
      },
      "outputs": [],
      "source": [
        "# 特定の銘柄コードに絞り込み\n",
        "code = 9984\n",
        "price_data = stock_price[stock_price[\"Local Code\"] == code]\n",
        "# 2019年までの値を表示\n",
        "price_data = price_data[:\"2023\"].copy()\n",
        "\n",
        "# 5日、25日、75日の価格変化率を算出\n",
        "periods = [5, 25, 75]\n",
        "cols = []\n",
        "for period in periods:\n",
        "    col = \"{} windows rate of return\".format(period)\n",
        "    price_data[col] = price_data[\"EndOfDayQuote ExchangeOfficialClose\"].pct_change(period) * 100\n",
        "    cols.append(col)\n",
        "\n",
        "# プロット\n",
        "fig = go.Figure()\n",
        "for col in cols:\n",
        "    fig.add_trace(go.Scatter(x=price_data.index, y=price_data[col], name=col))\n",
        "\n",
        "fig.show()"
      ]
    },
    {
      "cell_type": "markdown",
      "metadata": {
        "collapsed": false,
        "id": "gtQRETmffuuS",
        "pycharm": {
          "name": "#%% md\n"
        }
      },
      "source": [
        "#### Chapter 2.5.5 ヒストリカル・ボラティリティ\n",
        "\n",
        "ここではヒストリカル・ボラティリティを計算します。  \n",
        "ここで計算するヒストリカル・ボラティリティは、5日、25日、75日の対数リターンの標準偏差です。  \n",
        "ヒストリカル・ボラティリティはリスク指標の一つで、価格がどの程度激しく変動したかを把握するために利用します。  \n",
        "一般的にヒストリカル・ボラティリティが大きい銘柄は、小さい銘柄よりも資産として保持するリスクが相対的に高いと考えられます。\n",
        "\n",
        "\n",
        "\n"
      ]
    },
    {
      "cell_type": "code",
      "execution_count": null,
      "metadata": {
        "id": "1BrbN_NlfuuS",
        "pycharm": {
          "name": "#%%\n"
        }
      },
      "outputs": [],
      "source": [
        "# 特定の銘柄コードに絞り込み\n",
        "code = 9984\n",
        "price_data = stock_price[stock_price[\"Local Code\"] == code]\n",
        "# 2019年までの値を表示\n",
        "price_data = price_data[:\"2023\"].copy()\n",
        "\n",
        "# 5日、25日、75日のヒストリカル・ボラティリティを算出\n",
        "periods = [5, 25, 75]\n",
        "cols = []\n",
        "for period in periods:\n",
        "    col = \"{} windows volatility\".format(period)\n",
        "    price_data[col] = np.log(price_data[\"EndOfDayQuote ExchangeOfficialClose\"]).diff().rolling(period).std()\n",
        "    cols.append(col)\n",
        "\n",
        "# プロット\n",
        "fig = go.Figure()\n",
        "for col in cols:\n",
        "    fig.add_trace(go.Scatter(x=price_data.index, y=price_data[col], name=col))\n",
        "\n",
        "fig.show()"
      ]
    },
    {
      "cell_type": "markdown",
      "metadata": {
        "collapsed": false,
        "id": "A2UdXCkJfuuS",
        "pycharm": {
          "name": "#%% md\n"
        }
      },
      "source": [
        "#### Chapter 2.5.6 複数のデータを同時にプロット"
      ]
    },
    {
      "cell_type": "code",
      "execution_count": null,
      "metadata": {
        "id": "xgHLJN44fuuS",
        "pycharm": {
          "name": "#%%\n"
        }
      },
      "outputs": [],
      "source": [
        "from plotly.subplots import make_subplots\n",
        "\n",
        "# 特定の銘柄コードに絞り込み\n",
        "code = 9984\n",
        "price_data = stock_price[stock_price[\"Local Code\"] == code]\n",
        "# 2019年までの値を表示\n",
        "price_data = price_data[:\"2020\"].copy()\n",
        "\n",
        "# 5日、25日、75日を対象に値を算出\n",
        "periods = [5, 25, 75]\n",
        "ma_cols = []\n",
        "# 移動平均線\n",
        "for period in periods:\n",
        "    col = \"{} windows simple moving average\".format(period)\n",
        "    price_data[col] = price_data[\"EndOfDayQuote ExchangeOfficialClose\"].rolling(period, min_periods=1).mean()\n",
        "    ma_cols.append(col)\n",
        "\n",
        "return_cols = []\n",
        "# 価格変化率\n",
        "for period in periods:\n",
        "    col = \"{} windows rate of return\".format(period)\n",
        "    price_data[col] = price_data[\"EndOfDayQuote ExchangeOfficialClose\"].pct_change(period) * 100\n",
        "    return_cols.append(col)\n",
        "\n",
        "vol_cols = []\n",
        "# ヒストリカル・ボラティリティ\n",
        "for period in periods:\n",
        "    col = \"{} windows volatility\".format(period)\n",
        "    price_data[col] = np.log(price_data[\"EndOfDayQuote ExchangeOfficialClose\"]).diff().rolling(period).std()\n",
        "    vol_cols.append(col)\n",
        "\n",
        "# プロット\n",
        "fig = make_subplots(rows=3, cols=1)\n",
        "\n",
        "for col in ma_cols:\n",
        "    fig.append_trace(go.Scatter(\n",
        "        x=price_data.index,\n",
        "        y=price_data[col],\n",
        "        name=col),\n",
        "        row=1, col=1)\n",
        "\n",
        "for col in return_cols:\n",
        "    fig.append_trace(go.Scatter(\n",
        "        x=price_data.index,\n",
        "        y=price_data[col],\n",
        "        name=col),\n",
        "        row=2, col=1)\n",
        "\n",
        "for col in vol_cols:\n",
        "    fig.append_trace(go.Scatter(\n",
        "        x=price_data.index,\n",
        "        y=price_data[col],\n",
        "        name=col),\n",
        "        row=3, col=1)\n",
        "\n",
        "fig.show()"
      ]
    },
    {
      "cell_type": "markdown",
      "source": [
        "ここでは2020年中頃に起きた株価の下落に着目してみます。  \n",
        "複数の特徴量を並べてプロットすると、株価に大きな変動があった時に他の特徴量にどのような影響を与えているかを観測することができます。\n",
        "\n",
        "移動平均の特徴量は、期間が短いほど敏感に株価の下落に反応し、期間が長い特徴量ほど反応が遅れることがわかります。  \n",
        "リターンの特徴量も下落時には同一の傾向が見て取れますが、その後高いリターンが観測されることがわかります。  \n",
        "一方、ヒストリカル・ボラティリティの挙動をみると、下落の前にじわじわとボラティリティが上昇していることがわかります。  \n",
        "このように一つの株価の下落を見ても、それぞれの特徴量の挙動が微妙に異なっており、複数個の特徴量をモデルに投入することで、これらの挙動のパターンを学習することが想像できます。"
      ],
      "metadata": {
        "id": "yQP3mmVWicyF"
      }
    },
    {
      "cell_type": "markdown",
      "source": [
        "ここまでデータの読み込み及び可視化について説明してきましたが、  \n",
        "ここからはデータの前処理やモデル構築に関して説明していきます。   \n",
        "大まかな流れは、次の図のとおりです。\n",
        "\n",
        "\n",
        "<img src=\"https://drive.google.com/uc?export=view&id=1NFqTL9C0KH_I1Uacxk2VoEDYTYQkBxUv\">\n",
        "\n",
        "\n",
        "上図のとおり、モデルを構築する際には、データセットをそのまま入力するのではなく、  \n",
        "欠損値処理や正規化処理などのデータセットの前処理を実施してから入力することが一般的です。  \n",
        "ここではデータセットの前処理について解説していきます。"
      ],
      "metadata": {
        "id": "1uZLgAcOjQZk"
      }
    },
    {
      "cell_type": "markdown",
      "metadata": {
        "collapsed": false,
        "id": "aBXH116sfuuS",
        "pycharm": {
          "name": "#%% md\n"
        }
      },
      "source": [
        "#### 欠損値の処理\n",
        "\n",
        "本コンペティションのデータについて、まずは実際に欠損が発生している箇所やパターンを特定するために、欠損の発生状況をプロットして確認してみます。\n",
        "\n",
        "#### Chapter 2.6.2\n"
      ]
    },
    {
      "cell_type": "code",
      "execution_count": null,
      "metadata": {
        "id": "ojW1ShePfuuS",
        "pycharm": {
          "name": "#%%\n"
        }
      },
      "outputs": [],
      "source": [
        "# memo: stock_finの内容を変更してしまうとセルの実行に途中で失敗してしまったとき厄介なのでなるべく変更しない\n",
        "\n",
        "# 2019年までの値を表示\n",
        "fin_data = stock_fin[:\"2022\"]\n",
        "\n",
        "# # データ数の確認\n",
        "print(fin_data.shape)\n",
        "\n",
        "# # データの欠損値数を確認\n",
        "print(fin_data.isna().sum())\n",
        "\n",
        "# 欠損値の数を年別に集計\n",
        "fin_data = fin_data.isna()\n",
        "fin_data[\"year\"] = fin_data.index.year\n",
        "\n",
        "# データの欠損値をプロット\n",
        "# fig, ax = plt.subplots(figsize=(20, 5))\n",
        "# sns.heatmap(fin_data.groupby(\"year\").agg(\"sum\"), ax=ax)\n",
        "\n",
        "fig = px.imshow(fin_data.groupby(\"year\").agg(\"sum\"))\n",
        "fig.show()"
      ]
    },
    {
      "cell_type": "markdown",
      "source": [
        "明るい色で示されている箇所は、欠損値が多く発生していることを表しています。  \n",
        "本チュートリアルでは欠損値について以下のように対応します。\n",
        "- `Result_FinancialStatement`の `CashFlowsFromOperatingActivities`、 `CashFlowsFromFinancingActivities`、`CashFlowsFromInvestingActivities`に多くの欠損値があります（上図中央）。  \n",
        "これらのカラムの値は`Result_FinancialStatement ReportType`が`Annual` の場合にのみ値が入っています。  \n",
        "これらの欠損値については 0 を代入することで対処します。  \n",
        "\n",
        "ただし、変数によっては、0という数字自体に意味があるケースが有るため、気をつける必要があります。\n",
        "\n",
        "実際の欠損値処理は、次のように変数の型 (今回は np.float64 という型を選択) 別に後段処理できる値 (今回は 0) で欠損値を埋めます。"
      ],
      "metadata": {
        "id": "8SCTbVA0kqoH"
      }
    },
    {
      "cell_type": "code",
      "execution_count": null,
      "metadata": {
        "id": "jDv87dSgfuuS",
        "pycharm": {
          "name": "#%%\n"
        }
      },
      "outputs": [],
      "source": [
        "# 銘柄コード9984にデータを絞る\n",
        "code = 8697\n",
        "fin_data = stock_fin[stock_fin[\"Local Code\"] == code]\n",
        "\n",
        "# float64型の列に絞り込み\n",
        "fin_data = fin_data.select_dtypes(include=[\"float64\"])\n",
        "\n",
        "# 欠損値を0でフィル\n",
        "fin_data = fin_data.fillna(0)"
      ]
    },
    {
      "cell_type": "code",
      "execution_count": null,
      "metadata": {
        "id": "yYcTpQtJfuuS",
        "pycharm": {
          "name": "#%%\n"
        }
      },
      "outputs": [],
      "source": [
        "fin_data.head(5).T"
      ]
    },
    {
      "cell_type": "markdown",
      "metadata": {
        "collapsed": false,
        "id": "3j7IgVsbfuuS",
        "pycharm": {
          "name": "#%% md\n"
        }
      },
      "source": [
        "### Define features\n",
        "\n",
        "**（なぜ特徴量の設計が重要なのか）**  \n",
        "機械学習の手法にはモデルにできるだけ生に近いデータを与えてその関係性を見つける手法とドメイン知識や専門性を活かして、特徴量を設計する手法があります。\n",
        "\n",
        "前者の手法はEnd-To-End Learningと呼ばれ、生に近いデータをモデルに与え、そのモデル自体に特徴量を発見させる手法です。音声認識などの分野で活用されています。  \n",
        "\n",
        "本チュートリアルでは、金融データに慣れ親しんでいただくためにも、特徴量の影響を細かく考察しながら汎化性能に貢献する特徴量を設計していくアプローチで、モデルを構築します。\n",
        "\n",
        "特徴量生成は、仮説を考え、その仮説をモデルが学ぶにはどのような特徴量が必要か、ということを想像することが重要です。\n",
        "\n",
        "本チュートリアルでは、「直近株価が上がったら、高値もより大きく変動しやすい」という仮説を立て、この仮説を基に特徴量を生成してみます。  \n",
        "この仮説をモデルが学ぶためには直近株価が上がったことを示す特徴量が必要です。  \n",
        "直近を仮に1ヶ月と仮定すると、20日リターンや20日移動平均乖離率などが候補になります。\n",
        "\n",
        "また、この仮説が市場においても必ずしも正しいという必要はなく、仮説を思いついたら、その仮説を学ぶことができる特徴量を想像し、実際に実験してみることが重要です。\n",
        "\n",
        "1/2/3monthのリターンに加えて標準偏差、移動平均乖離率などの特徴量生成\n",
        "\n",
        "※時刻は分析対象データを決算後翌営業日から一週間で価格データが存在していた銘柄のみにフィルタリング"
      ]
    },
    {
      "cell_type": "markdown",
      "source": [
        "**（定常性）**  \n",
        "時系列データを扱う際には、定常性を意識して特徴量を設計することが重要です。\n",
        "\n",
        "株価をそのまま学習させたケースと定常性がある特徴量を利用するケースについて考えてみます。\n",
        "\n",
        "株価をそのまま学習させたケース: 例えば、モデルの訓練期間における株価が、100円〜110円の範囲で動いたとします。もし、この数値をそのままモデルに投入すると、モデルは株価が100円〜110円近辺で動くことを暗黙に学習します。しかし、この暗黙の仮定は実際のマーケットでは成立しておらず、テスト期間で株価が高騰すると、モデルがうまく動かないことがあります。他にも株価に特有の例としては株式分割や株式併合により株価のレンジが大きく変動する場合があります。\n",
        "\n",
        "定常性がある特徴量を利用するケース: 例えば、20日の価格変化率を考えると、これは正規分布ではありませんが、一部のマーケットの混乱期を除けばほぼ0を中心とした正規分布に近い分布になります。特徴量は、2%の上昇や4%の下落といった0を中心とした時系列となっており、将来に渡っても似たような分布になることが期待でき、株価範囲に対する暗黙の仮定を学ぶ恐れがなくなります。このように将来に渡っても似たような分布を期待できる特徴量は定常性があるといえます。"
      ],
      "metadata": {
        "id": "swXproEoovcQ"
      }
    },
    {
      "cell_type": "markdown",
      "metadata": {
        "collapsed": false,
        "id": "NAFx1BiIfuuT",
        "pycharm": {
          "name": "#%% md\n"
        }
      },
      "source": [
        "#### Chapter 2.7.3\n",
        "\n",
        "ここでは、特徴量の生成を stock_price の株価情報を利用して行います。  \n",
        "株価情報には、価格や出来高など市場で公開されている株価の四本値(始値、高値、安値、終値)の時系列データが格納されています。  \n",
        "本チュートリアルでは、特徴量の例として1ヶ月、2ヶ月、3ヶ月間の「終値の変化率（リターン）」、「ヒストリカル・ボラティリティ」、「移動平均線からの乖離率」を紹介します。\n"
      ]
    },
    {
      "cell_type": "code",
      "execution_count": null,
      "metadata": {
        "id": "NozvxRTkfuuT",
        "pycharm": {
          "name": "#%%\n"
        }
      },
      "outputs": [],
      "source": [
        "# 銘柄コード9984にデータを絞る\n",
        "code = 9984\n",
        "price_data = stock_price[stock_price[\"Local Code\"] == code]\n",
        "\n",
        "# 終値のみに絞る\n",
        "feats = price_data[[\"EndOfDayQuote ExchangeOfficialClose\"]].copy()\n",
        "\n",
        "# 終値の20営業日リターン\n",
        "feats[\"return_1month\"] = feats[\"EndOfDayQuote ExchangeOfficialClose\"].pct_change(20)\n",
        "# 終値の40営業日リターン\n",
        "feats[\"return_2month\"] = feats[\"EndOfDayQuote ExchangeOfficialClose\"].pct_change(40)\n",
        "# 終値の60営業日リターン\n",
        "feats[\"return_3month\"] = feats[\"EndOfDayQuote ExchangeOfficialClose\"].pct_change(60)\n",
        "\n",
        "# 終値の20営業日ボラティリティ\n",
        "feats[\"volatility_1month\"] = (\n",
        "    np.log(feats[\"EndOfDayQuote ExchangeOfficialClose\"]).diff().rolling(20).std()\n",
        ")\n",
        "# 終値の40営業日ボラティリティ\n",
        "feats[\"volatility_2month\"] = (\n",
        "    np.log(feats[\"EndOfDayQuote ExchangeOfficialClose\"]).diff().rolling(40).std()\n",
        ")\n",
        "# 終値の60営業日ボラティリティ\n",
        "feats[\"volatility_3month\"] = (\n",
        "    np.log(feats[\"EndOfDayQuote ExchangeOfficialClose\"]).diff().rolling(60).std()\n",
        ")\n",
        "\n",
        "# 終値と20営業日の単純移動平均線の乖離\n",
        "feats[\"MA_gap_1month\"] = feats[\"EndOfDayQuote ExchangeOfficialClose\"] / (\n",
        "    feats[\"EndOfDayQuote ExchangeOfficialClose\"].rolling(20).mean()\n",
        ")\n",
        "# 終値と40営業日の単純移動平均線の乖離\n",
        "feats[\"MA_gap_2month\"] = feats[\"EndOfDayQuote ExchangeOfficialClose\"] / (\n",
        "    feats[\"EndOfDayQuote ExchangeOfficialClose\"].rolling(40).mean()\n",
        ")\n",
        "# 終値と60営業日の単純移動平均線の乖離\n",
        "feats[\"MA_gap_3month\"] = feats[\"EndOfDayQuote ExchangeOfficialClose\"] / (\n",
        "    feats[\"EndOfDayQuote ExchangeOfficialClose\"].rolling(60).mean()\n",
        ")\n",
        "\n",
        "# 欠損値処理\n",
        "feats = feats.fillna(0)\n",
        "# 元データのカラムを削除\n",
        "feats = feats.drop([\"EndOfDayQuote ExchangeOfficialClose\"], axis=1)"
      ]
    },
    {
      "cell_type": "code",
      "execution_count": null,
      "metadata": {
        "id": "R0o1w7XYfuuT",
        "pycharm": {
          "name": "#%%\n"
        }
      },
      "outputs": [],
      "source": [
        "feats.tail(5).T"
      ]
    },
    {
      "cell_type": "code",
      "execution_count": null,
      "metadata": {
        "id": "iAdLhX5TfuuT",
        "pycharm": {
          "name": "#%%\n"
        }
      },
      "outputs": [],
      "source": [
        "fig = make_subplots(rows=3, cols=1)\n",
        "\n",
        "for col in feats.columns[:3]:\n",
        "    fig.add_trace(go.Scatter(\n",
        "        x=feats.index,\n",
        "        y=feats[col],\n",
        "        name=col\n",
        "    ),\n",
        "    row=1, col=1\n",
        ")\n",
        "for col in feats.columns[3:6]:\n",
        "    fig.add_trace(go.Scatter(\n",
        "        x=feats.index,\n",
        "        y=feats[col],\n",
        "        name=col\n",
        "    ),\n",
        "    row=2, col=1\n",
        ")\n",
        "for col in feats.columns[6:]:\n",
        "    fig.add_trace(go.Scatter(\n",
        "        x=feats.index,\n",
        "        y=feats[col],\n",
        "        name=col\n",
        "    ),\n",
        "    row=3, col=1\n",
        ")\n",
        "\n",
        "fig.show()"
      ]
    },
    {
      "cell_type": "markdown",
      "metadata": {
        "collapsed": false,
        "id": "J8Sx0PiefuuT",
        "pycharm": {
          "name": "#%% md\n"
        }
      },
      "source": [
        "### バックテスト用のテストデータ作成\n",
        "\n",
        "ここでは、バックテストを行うためのデータの分割について説明します。\n",
        "\n",
        "（バックテストとは）\n",
        "バックテストとは、モデルの有効性を検証する際に、過去のデータを用いて、一定期間にどの程度のパフォーマンスが得られたかをシミュレーションすることです。  \n",
        "モデルの有効性を検証する上で、どのようにバックテストを実施するかは重要なポイントになります。\n",
        "\n",
        "ここでは、データセットを訓練データとテストデータに切り分けます。まずデータセットを分ける理由を説明し、次に、データセットの分け方及びコツについて解説します。\n",
        "\n",
        "データセットを分ける理由は、モデルの汎化性能を確認し使用するモデルを決定するためです。\n",
        "\n",
        "汎化性能とは、モデルが訓練データ以外の未知のデータに対しても機能するという能力です。  \n",
        "汎化性能が低いモデルは、訓練データでは高い精度が得られますが、訓練データにない未知のデータについては、低い精度しか得られません。  \n",
        "この現象を過学習と呼びます。  \n",
        "データセットを分割せずに、そのまま全体に対して学習し、同じデータセットに対してモデルによる予測をすると、基本的には高い精度の結果を得ることができます。  \n",
        "しかし、未知のデータに対して予測すると、予測がまったく当たらないということが起こり得ます。  \n",
        "そのため、データセットを分割して、学習に使用していないデータをモデルの検証用として用意しておくことで、   \n",
        "作成したモデルが過学習していないことを確認することが出来ます。\n",
        "\n",
        "基本的な時系列データの分割手法(ホールドアウト検証)に関して解説します。\n",
        "\n",
        "1. 全体のデータセットを、訓練期間(TRAIN)/検証期間(VAL)/テスト期間(TEST)で分けます。\n",
        "2. TRAINデータでモデルを学習させ、VALデータでモデルを評価します。これをモデルのさまざまなパラメーターで何度か行い、一番結果が良かったパラメーターを選びます。\n",
        "3. そして最後にTESTデータでモデルの予測結果を最終評価します。\n",
        "\n",
        "本チュートリアルでは、次の期間でデータを分割します。\n",
        "\n",
        "訓練期間： 2018-01-01 - 2019-12-31  \n",
        "評価期間： 2020-02-01 - 2020-12-01  \n",
        "テスト期間：2021-01-01 - 2022-12-31  \n",
        "\n",
        "※データの分割に際し、各期間に間隔（1か月）を空けている理由は、未来の情報を含ませないようにするためです。例えば、2017年12月31日の目的変数には5営業日、10営業日、20営業日後の株価リターンの情報が入っているため、2017年12月31日のデータを使って学習したモデルは未来の情報（2018年1月のリターン）を知っていることになってしまいます。したがって、2018年1月のデータを検証データに含めてしまうとリークが発生し、適切なモデルの評価ができなくなってしまいます。\n",
        "\n",
        "#### Chapter 2.8.2\n"
      ]
    },
    {
      "cell_type": "code",
      "execution_count": null,
      "metadata": {
        "id": "YFcWz_Z-fuuT",
        "pycharm": {
          "name": "#%%\n"
        }
      },
      "outputs": [],
      "source": [
        "# データ分割期間を定義\n",
        "TRAIN_END = \"2019-12-31\"\n",
        "VAL_START = \"2020-02-01\"\n",
        "VAL_END = \"2020-12-01\"\n",
        "TEST_START = \"2021-01-01\""
      ]
    },
    {
      "cell_type": "markdown",
      "metadata": {
        "collapsed": false,
        "id": "OTdK8QewfuuT",
        "pycharm": {
          "name": "#%% md\n"
        }
      },
      "source": [
        "### 特徴量の生成\n",
        "ここでは、モデルの学習に用いるためのデータを準備します。\n",
        "\n",
        "モデル作成のステップは、以下のとおりに行います。\n",
        "\n",
        "1. 銘柄を一つ選ぶ\n",
        "2. その銘柄に対して、財務データ及びマーケットデータから特徴量を作る\n",
        "3. 全銘柄に対して同じことを繰り返す\n",
        "4. 作成したデータを結合する\n",
        "5. 全データを訓練データ、評価データ、テストデータに分ける\n",
        "6. 訓練データで予測モデルを学習させる\n",
        "\n",
        "#### Chapter 2.9.1\n",
        "\n",
        "ここでは、特徴量生成のコードを示しています。コードのおおまかな流れとしては、以下の3ステップに分けられます。\n",
        "\n",
        "1. 財務データの取得及び前処理（Chapter 2.6.2と同様）\n",
        "2. マーケットデータの取得及び特徴量定義（Chapter 2.7.2と同様）\n",
        "3. 財務データと生成した特徴量を結合"
      ]
    },
    {
      "cell_type": "code",
      "execution_count": null,
      "metadata": {
        "id": "Trj7fnimfuuT",
        "pycharm": {
          "name": "#%%\n"
        }
      },
      "outputs": [],
      "source": [
        "def get_features_for_predict(stock_fin, stock_price, code:int, start_dt=\"2018-01-01\"):\n",
        "    \"\"\"\n",
        "    Args:\n",
        "        stock_fin (pd.DataFrame)  : pd.DataFrame that includes financial statements data\n",
        "        stock_price (pd.DataFrame) : pd.DataFrame that includes stock price data\n",
        "        code (int)  : A local code for a listed company\n",
        "        start_dt (str): specify date range\n",
        "    Returns:\n",
        "        feature DataFrame (pd.DataFrame)\n",
        "    \"\"\"\n",
        "    # おおまかな手順の1つ目\n",
        "\n",
        "    # 特定の銘柄コードのデータに絞る\n",
        "    fin_data = stock_fin[stock_fin[\"Local Code\"] == code]\n",
        "    # 特徴量の作成には過去60営業日のデータを使用しているため、\n",
        "    # 予測対象日からバッファ含めて土日を除く過去90日遡った時点から特徴量を生成します\n",
        "    n = 90\n",
        "    # 特徴量の生成対象期間を指定\n",
        "    fin_data = fin_data.loc[pd.Timestamp(start_dt) - pd.offsets.BDay(n) :]\n",
        "    # fin_dataのnp.float64のデータのみを取得\n",
        "    fin_data = fin_data.select_dtypes(include=[\"float64\"])\n",
        "    # 欠損値処理\n",
        "    fin_feats = fin_data.fillna(0)\n",
        "\n",
        "    # おおまかな手順の2つ目\n",
        "\n",
        "    # 特定の銘柄コードのデータに絞る\n",
        "    price_data = stock_price[stock_price[\"Local Code\"] == code]\n",
        "    # 終値のみに絞る\n",
        "    feats = price_data[[\"EndOfDayQuote ExchangeOfficialClose\"]]\n",
        "    # 特徴量の生成対象期間を指定\n",
        "    feats = feats.loc[pd.Timestamp(start_dt) - pd.offsets.BDay(n) :].copy()\n",
        "\n",
        "    # 終値の20営業日リターン\n",
        "    feats[\"return_1month\"] = feats[\"EndOfDayQuote ExchangeOfficialClose\"].pct_change(20)\n",
        "    # 終値の40営業日リターン\n",
        "    feats[\"return_2month\"] = feats[\"EndOfDayQuote ExchangeOfficialClose\"].pct_change(40)\n",
        "    # 終値の60営業日リターン\n",
        "    feats[\"return_3month\"] = feats[\"EndOfDayQuote ExchangeOfficialClose\"].pct_change(60)\n",
        "    # 終値の20営業日ボラティリティ\n",
        "    feats[\"volatility_1month\"] = (\n",
        "        np.log(feats[\"EndOfDayQuote ExchangeOfficialClose\"]).diff().rolling(20).std()\n",
        "    )\n",
        "    # 終値の40営業日ボラティリティ\n",
        "    feats[\"volatility_2month\"] = (\n",
        "        np.log(feats[\"EndOfDayQuote ExchangeOfficialClose\"]).diff().rolling(40).std()\n",
        "    )\n",
        "    # 終値の60営業日ボラティリティ\n",
        "    feats[\"volatility_3month\"] = (\n",
        "        np.log(feats[\"EndOfDayQuote ExchangeOfficialClose\"]).diff().rolling(60).std()\n",
        "    )\n",
        "    # 終値と20営業日の単純移動平均線の乖離\n",
        "    feats[\"MA_gap_1month\"] = feats[\"EndOfDayQuote ExchangeOfficialClose\"] / (\n",
        "        feats[\"EndOfDayQuote ExchangeOfficialClose\"].rolling(20).mean()\n",
        "    )\n",
        "    # 終値と40営業日の単純移動平均線の乖離\n",
        "    feats[\"MA_gap_2month\"] = feats[\"EndOfDayQuote ExchangeOfficialClose\"] / (\n",
        "        feats[\"EndOfDayQuote ExchangeOfficialClose\"].rolling(40).mean()\n",
        "    )\n",
        "    # 終値と60営業日の単純移動平均線の乖離\n",
        "    feats[\"MA_gap_3month\"] = feats[\"EndOfDayQuote ExchangeOfficialClose\"] / (\n",
        "        feats[\"EndOfDayQuote ExchangeOfficialClose\"].rolling(60).mean()\n",
        "    )\n",
        "\n",
        "    # おおまかな手順の3つ目\n",
        "    # 欠損値処理\n",
        "    feats = feats.fillna(0)\n",
        "    # 元データのカラムを削除\n",
        "    feats = feats.drop([\"EndOfDayQuote ExchangeOfficialClose\"], axis=1)\n",
        "\n",
        "    # 財務データの特徴量とマーケットデータの特徴量のインデックスを合わせる\n",
        "    feats = feats.loc[feats.index.isin(fin_feats.index)]\n",
        "    fin_feats = fin_feats.loc[fin_feats.index.isin(feats.index)]\n",
        "\n",
        "    # データを結合\n",
        "    feats = pd.concat([feats, fin_feats], axis=1).dropna()\n",
        "\n",
        "    # 欠損値処理を行います。\n",
        "    feats = feats.replace([np.inf, -np.inf], 0)\n",
        "\n",
        "    # 銘柄コードを設定\n",
        "    feats[\"code\"] = code\n",
        "\n",
        "    # 生成対象日以降の特徴量に絞る\n",
        "    feats = feats.loc[pd.Timestamp(start_dt) :]\n",
        "\n",
        "    return feats"
      ]
    },
    {
      "cell_type": "code",
      "execution_count": null,
      "metadata": {
        "id": "2w-RyYcafuuT",
        "pycharm": {
          "name": "#%%\n"
        }
      },
      "outputs": [],
      "source": [
        "df = get_features_for_predict(stock_fin, stock_price, 9984)\n",
        "df.T"
      ]
    },
    {
      "cell_type": "markdown",
      "metadata": {
        "collapsed": false,
        "id": "0FO4fZEufuuT",
        "pycharm": {
          "name": "#%% md\n"
        }
      },
      "source": [
        "### 目的変数の生成\n",
        "次に目的変数を定義します。目的変数は、データセットの stock_labels 内にあり、利用する際は先ほど定義した特徴量のデータセットに対して、行（日付）を一致させる必要があります。\n",
        "\n",
        "データセットの訓練期間、評価期間、テスト期間への分割処理も合わせて実施します。\n",
        "\n",
        "#### Chapter 2.9.2\n"
      ]
    },
    {
      "cell_type": "code",
      "execution_count": null,
      "metadata": {
        "id": "PFNfiIjlfuuT",
        "pycharm": {
          "name": "#%%\n"
        }
      },
      "outputs": [],
      "source": [
        "def get_features_and_label(stock_labels, codes, feature, label):\n",
        "    \"\"\"\n",
        "    Args:\n",
        "        stock_labels (pd.DataFame): label data for training\n",
        "        codes  (array) : target codes\n",
        "        feature (pd.DataFrame): features\n",
        "        label (str) : label column name\n",
        "    Returns:\n",
        "        train_X (pd.DataFrame): training data\n",
        "        train_y (pd.DataFrame): label for train_X\n",
        "        val_X (pd.DataFrame): validation data\n",
        "        val_y (pd.DataFrame): label for val_X\n",
        "        test_X (pd.DataFrame): test data\n",
        "        test_y (pd.DataFrame): label for test_X\n",
        "    \"\"\"\n",
        "    # 分割データ用の変数を定義\n",
        "    trains_X, vals_X, tests_X = [], [], []\n",
        "    trains_y, vals_y, tests_y = [], [], []\n",
        "\n",
        "    # 銘柄コード毎に特徴量を作成\n",
        "    for code in tqdm(codes):\n",
        "        # 特徴量取得\n",
        "        feats = feature[feature[\"code\"] == code]\n",
        "\n",
        "        # 特定の銘柄コードのデータに絞る\n",
        "        labels = stock_labels[stock_labels[\"Local Code\"] == code].copy()\n",
        "\n",
        "        # 特定の目的変数に絞る\n",
        "        labels = labels[label].copy()\n",
        "        # nanを削除\n",
        "        labels.dropna(inplace=True)\n",
        "\n",
        "        if feats.shape[0] > 0 and labels.shape[0] > 0:\n",
        "            # 特徴量と目的変数のインデックスを合わせる\n",
        "            labels = labels.loc[labels.index.isin(feats.index)]\n",
        "            feats = feats.loc[feats.index.isin(labels.index)]\n",
        "            labels.index = feats.index\n",
        "\n",
        "            # データを分割\n",
        "            _train_X = feats[: TRAIN_END]\n",
        "            _val_X = feats[VAL_START : VAL_END]\n",
        "            _test_X = feats[TEST_START :]\n",
        "\n",
        "            _train_y = labels[: TRAIN_END]\n",
        "            _val_y = labels[VAL_START : VAL_END]\n",
        "            _test_y = labels[TEST_START :]\n",
        "\n",
        "            # データを配列に格納 (後ほど結合するため)\n",
        "            trains_X.append(_train_X)\n",
        "            vals_X.append(_val_X)\n",
        "            tests_X.append(_test_X)\n",
        "\n",
        "            trains_y.append(_train_y)\n",
        "            vals_y.append(_val_y)\n",
        "            tests_y.append(_test_y)\n",
        "\n",
        "    # 銘柄毎に作成した説明変数データを結合します。\n",
        "    train_X = pd.concat(trains_X)\n",
        "    val_X = pd.concat(vals_X)\n",
        "    test_X = pd.concat(tests_X)\n",
        "    # 銘柄毎に作成した目的変数データを結合します。\n",
        "    train_y = pd.concat(trains_y)\n",
        "    val_y = pd.concat(vals_y)\n",
        "    test_y = pd.concat(tests_y)\n",
        "\n",
        "    return train_X, train_y, val_X, val_y, test_X, test_y"
      ]
    },
    {
      "cell_type": "code",
      "execution_count": null,
      "metadata": {
        "id": "ohTLeXhGfuuT",
        "pycharm": {
          "name": "#%%\n"
        }
      },
      "outputs": [],
      "source": [
        "# 対象銘柄コードを定義\n",
        "codes = [9984]\n",
        "# 対象の目的変数を定義\n",
        "label = \"label_high_20\"\n",
        "# 特徴量を取得\n",
        "feat = get_features_for_predict(stock_fin, stock_price, codes[0])\n",
        "# 特徴量と目的変数を一致させて、データを分割\n",
        "ret = get_features_and_label(stock_labels, codes, feat, label)\n",
        "for v in ret:\n",
        "    print(v.T)"
      ]
    },
    {
      "cell_type": "markdown",
      "source": [
        "ここまでは一つの銘柄に対して処理をしてきましたが、ここからは全ての予測対象銘柄に対して上記の処理を実施するために、予測対象の銘柄コードを以下のように取得します。"
      ],
      "metadata": {
        "id": "iWdqYy5LU-F3"
      }
    },
    {
      "cell_type": "code",
      "execution_count": null,
      "metadata": {
        "id": "dBA2NYsUfuuT",
        "pycharm": {
          "name": "#%%\n"
        }
      },
      "outputs": [],
      "source": [
        "def get_codes(stock_list):\n",
        "    \"\"\"\n",
        "    Args:\n",
        "        stock_list (pd.DataFrame): stock list\n",
        "    Returns:\n",
        "        array: list of stock codes\n",
        "    \"\"\"\n",
        "    # 予測対象の銘柄コードを取得\n",
        "    codes = stock_list[stock_list[\"prediction_target\"] == True][\n",
        "        \"Local Code\"\n",
        "    ].values\n",
        "    return codes"
      ]
    },
    {
      "cell_type": "markdown",
      "source": [
        "次に、目的変数毎にデータセットを作成します。今回は全ての目的変数に同一の特徴量を使用していますが、目的変数に応じて特徴量をチューニングすることでより精度の高いモデルを作成することができます。\n",
        "\n"
      ],
      "metadata": {
        "id": "icffm2TlVFhm"
      }
    },
    {
      "cell_type": "code",
      "execution_count": null,
      "metadata": {
        "id": "7Om151VkfuuT",
        "pycharm": {
          "name": "#%%\n"
        }
      },
      "outputs": [],
      "source": [
        "# 対象の目的変数を定義\n",
        "labels = {\n",
        "        \"label_high_20\",\n",
        "        \"label_low_20\",\n",
        "}\n",
        "\n",
        "# 目的変数毎にデータを保存するための変数\n",
        "train_X, val_X, test_X = {}, {}, {}\n",
        "train_y, val_y, test_y = {}, {}, {}\n",
        "\n",
        "# 予測対象銘柄を取得\n",
        "codes = get_codes(stock_list)\n",
        "\n",
        "# 特徴量を作成\n",
        "buff = []\n",
        "for code in tqdm(codes):\n",
        "    feat = get_features_for_predict(stock_fin, stock_price, code)\n",
        "    buff.append(feat)\n",
        "feature = pd.concat(buff)\n",
        "\n",
        "# 目的変数毎に処理\n",
        "for label in tqdm(labels):\n",
        "    # 特徴量と目的変数を取得\n",
        "    _train_X, _train_y, _val_X, _val_y, _test_X, _test_y = get_features_and_label(stock_labels, codes, feature, label)\n",
        "    # 目的変数をキーとして値を保存\n",
        "    train_X[label] = _train_X\n",
        "    val_X[label] = _val_X\n",
        "    test_X[label] = _test_X\n",
        "    train_y[label] = _train_y\n",
        "    val_y[label] = _val_y\n",
        "    test_y[label] = _test_y"
      ]
    },
    {
      "cell_type": "markdown",
      "metadata": {
        "collapsed": false,
        "id": "OW05nbdWfuuT",
        "pycharm": {
          "name": "#%% md\n"
        }
      },
      "source": [
        "### Create Model\n",
        "\n",
        "データの準備が完了したので、いよいよモデルの学習を実行します。  \n",
        "ここでは、sklearnライブラリのRandomForestRegressorモデルを使用します。  \n",
        "モデルに設定する各種パラメータは、ここではとくに指定せずにライブラリのデフォルトパラメータを使用します。\n",
        "\n",
        "RandomForestの回帰モデルであるRandomForestRegressorモデルを利用する理由は、予測する目的変数が連続値であるからです。  \n",
        "RandomForestモデルは決定木をベースとするモデルであるため、以下の理由から最初に選択するモデルとして扱いやすいです。\n",
        "\n",
        "RandomForest内部で利用する決定木は、特徴量の大小関係のみに着目しており、値自体には意味がないので正規化処理の必要がありません\n",
        "\n",
        "特徴量の重要度を取得することができ、次に実施することの道筋を立てやすい\n",
        "\n",
        "#### Chapter 2.9.3\n"
      ]
    },
    {
      "cell_type": "code",
      "execution_count": null,
      "metadata": {
        "id": "FiCdlHR8fuuT",
        "pycharm": {
          "name": "#%%\n"
        }
      },
      "outputs": [],
      "source": [
        "# 目的変数を指定\n",
        "label = \"label_high_20\"\n",
        "# モデルの初期化\n",
        "pred_model = RandomForestRegressor(random_state=0)\n",
        "# モデルの学習\n",
        "pred_model.fit(train_X[label], train_y[label])"
      ]
    },
    {
      "cell_type": "markdown",
      "metadata": {
        "collapsed": false,
        "id": "HPMqw2nJfuuT",
        "pycharm": {
          "name": "#%% md\n"
        }
      },
      "source": [
        "### Predict\n",
        "\n",
        "ここでは構築したモデルから予測結果を出力し、可視化などによる分析を実施します。\n",
        "\n",
        "#### Chapter 2.10.1"
      ]
    },
    {
      "cell_type": "code",
      "execution_count": null,
      "metadata": {
        "id": "6SV6gProfuuT",
        "pycharm": {
          "name": "#%%\n"
        }
      },
      "outputs": [],
      "source": [
        "# モデルを定義\n",
        "models = {\n",
        "    \"rf\": RandomForestRegressor,\n",
        "}\n",
        "\n",
        "# モデルを選択\n",
        "model = \"rf\"\n",
        "\n",
        "# 目的変数を指定\n",
        "label = \"label_high_20\"\n",
        "\n",
        "# 特徴量グループを定義　\n",
        "# ファンダメンタル\n",
        "fundamental_cols = stock_fin.select_dtypes(\"float64\").columns\n",
        "fundamental_cols = fundamental_cols[fundamental_cols != \"Local Code\"]\n",
        "# 価格変化率\n",
        "returns_cols = [x for x in train_X[label].columns if \"return\" in x]\n",
        "# テクニカル\n",
        "technical_cols = [x for x in train_X[label].columns if (x not in fundamental_cols) and (x != \"code\")]\n",
        "columns = {\n",
        "    \"fundamental_only\": fundamental_cols,\n",
        "    \"return_only\": returns_cols,\n",
        "    \"technical_only\": technical_cols,\n",
        "    \"fundamental+technical\": list(fundamental_cols) + list(technical_cols),\n",
        "}\n",
        "\n",
        "# 特徴量グループを指定\n",
        "col = \"fundamental_only\"\n",
        "\n",
        "# 学習\n",
        "pred_model = models[model](random_state=0)\n",
        "print(type(train_X[label][columns[col]].values))\n",
        "print(type(train_y[label]))\n",
        "pred_model.fit(train_X[label][columns[col]], train_y[label])\n",
        "\n",
        "# 予測\n",
        "result = {}\n",
        "result[label] = pd.DataFrame(\n",
        "    pred_model.predict(val_X[label][columns[col]]), columns=[\"predict\"]\n",
        ")\n",
        "\n",
        "# 予測結果に日付と銘柄コードを追加\n",
        "result[label][\"datetime\"] = val_X[label][columns[col]].index\n",
        "result[label][\"code\"] = val_X[label][\"code\"].values\n",
        "\n",
        "# 予測の符号を取得\n",
        "result[label][\"predict_dir\"] = np.sign(result[label][\"predict\"])\n",
        "\n",
        "# 実際の値を追加\n",
        "result[label][\"actual\"] = val_y[label].values"
      ]
    },
    {
      "cell_type": "markdown",
      "source": [
        "予測結果の確認として、実際に決算開示等のあった銘柄について基準日付の終値から最高値への変化率(actual)と予測スコア(predict)の散布図を見ます。  \n",
        "ここで散布図を選択する理由は、予測対象に対して予測スコアがどのような分布をとっているかを見ることが、  \n",
        "モデルの挙動を理解するわかりやすい可視化であることが挙げられます。"
      ],
      "metadata": {
        "id": "RI2E_LPEcPv0"
      }
    },
    {
      "cell_type": "code",
      "source": [
        "from scipy import stats\n",
        "\n",
        "g = sns.jointplot(data=result[label], x=\"predict\", y=\"actual\", kind=\"reg\")\n",
        "r, p = stats.pearsonr(result[label][\"predict\"], result[label][\"actual\"])\n",
        "phantom, = g.ax_joint.plot([], [], linestyle=\"\", alpha=0)\n",
        "g.ax_joint.legend([phantom],['r={:f}, p={:f}'.format(r,p)])"
      ],
      "metadata": {
        "id": "pNJjVh4mApUV"
      },
      "execution_count": null,
      "outputs": []
    },
    {
      "cell_type": "markdown",
      "source": [
        "この図では、横軸が予測値で、縦軸が真の値です。予測と真の値には、正の相関(0.182723)が見受けられるので、ある程度の相関関係が発生しています。  \n",
        "一般的なデータで0.183という数字が出てもほぼ無相関に見えますが、金融データでは0.183というスコアは高い部類に入ります。  \n",
        "このように視覚化すると、予測値と真の値の関係性を可視化できます。"
      ],
      "metadata": {
        "id": "zRzLvPuJgp58"
      }
    },
    {
      "cell_type": "markdown",
      "metadata": {
        "collapsed": false,
        "id": "5eF1-TVqfuuU",
        "pycharm": {
          "name": "#%% md\n"
        }
      },
      "source": [
        "### 重要度\n",
        "\n",
        "予測精度を向上させるためには、特徴量とモデルの分析を集中的に行う必要があります。  \n",
        "特徴量の分析では、さまざまな手法がありますが、ここでは特徴量の重要度の分析とSHAPという手法を紹介します。\n"
      ]
    },
    {
      "cell_type": "markdown",
      "source": [
        "\n",
        "#### Chapter 2.11.1\n",
        "\n",
        "特徴量の重要度は、Random ForestやGradient Boostingなどのいくつかの機械学習モデルで取得でき、  \n",
        "モデル内でどの程度それぞれの説明変数が、目的変数に対して重要であるかを判断するために参考になる指標です。\n",
        "\n",
        "重要度が極端に低いものは、そもそも説明変数から除外したり、重要度が高いものは更に分析することで、  \n",
        "性能の向上が期待できないか、など分析の道筋をつける上でも役に立ちます。\n",
        "\n",
        "ここではファンダメンタル情報を用いて、  \n",
        "モデルの訓練データ(2016年初から2017年末まで)における特徴量の重要度を調査します。\n",
        "\n",
        "次の方法に従って、特徴量の重要度をプロットします。\n",
        "\n"
      ],
      "metadata": {
        "id": "xqWgFx9ukH4M"
      }
    },
    {
      "cell_type": "code",
      "execution_count": null,
      "metadata": {
        "id": "spoFlVWhfuuU",
        "pycharm": {
          "name": "#%%\n"
        }
      },
      "outputs": [],
      "source": [
        "rf = pred_model\n",
        "\n",
        "# プロット\n",
        "fig, ax = plt.subplots(figsize=(8, 8))\n",
        "sorted_idx = rf.feature_importances_.argsort()\n",
        "ax.barh(fundamental_cols[sorted_idx], rf.feature_importances_[sorted_idx])\n",
        "ax.set_xlabel(\"Random Forest Feature Importance\")"
      ]
    },
    {
      "cell_type": "markdown",
      "source": [
        "上記の可視化により、 一番上にある NetAssets(純資産) にモデルが注目していることがわかります。  \n",
        "純資産は資本金や利益剰余金などを合算した指標で、次に登場する TotalAssets(総資産)から負債を引いたものとなります。  \n",
        "TotalAssets(総資産) は、流動資産や固定資産、繰延資産など、会社の全ての資産を合算したものを示す指標です。\n",
        "この2つは会社の規模を示す代表的な指標となっています。\n",
        "\n",
        "Random Forestモデルの内部で、この2つを利用した分岐が多数存在していることを示しており、  \n",
        "会社規模が重要な指標である可能性を示唆しています。"
      ],
      "metadata": {
        "id": "IPTF4mMJkcZa"
      }
    },
    {
      "cell_type": "markdown",
      "metadata": {
        "collapsed": false,
        "id": "PnCqTgm3fuuU",
        "pycharm": {
          "name": "#%% md\n"
        }
      },
      "source": [
        "### SHAP分析\n",
        "\n",
        "SHAPは、学習済みモデルにおいて、各特徴量がモデルの出力する予測値に与えた影響度を算出してくれるものです。\n",
        "\n",
        "ここでは、サンプルモデルとしてXGBoostモデルを利用し、 label_high_20 という目的変数に対して、  \n",
        "どの特徴量が学習に効果的な特徴量なのかを見てみます。\n",
        "\n",
        "#### Chapter 2.11.2\n"
      ]
    },
    {
      "cell_type": "code",
      "execution_count": null,
      "metadata": {
        "id": "10IQQAqSfuuU",
        "pycharm": {
          "name": "#%%\n"
        }
      },
      "outputs": [],
      "source": [
        "# xgboostモデル学習　\n",
        "train_X_code_int = train_X[\"label_high_20\"].copy()\n",
        "train_X_code_int[\"code\"] = train_X_code_int[\"code\"].astype(int)\n",
        "sample_model = xgboost.train({\"learning_rate\": 0.01}, xgboost.DMatrix(train_X_code_int, label=train_y[\"label_high_20\"]), 100)"
      ]
    },
    {
      "cell_type": "code",
      "execution_count": null,
      "metadata": {
        "id": "M_oaYuzjfuuU",
        "pycharm": {
          "name": "#%%\n"
        }
      },
      "outputs": [],
      "source": [
        "shap.initjs()\n",
        "\n",
        "explainer = shap.TreeExplainer(model=sample_model, feature_perturbation='tree_path_dependent', model_output='raw')\n",
        "\n",
        "shap_values = explainer.shap_values(X=train_X_code_int)\n",
        "\n",
        "shap.summary_plot(shap_values, train_X_code_int, plot_type=\"bar\")"
      ]
    },
    {
      "cell_type": "markdown",
      "source": [
        "次にshapのsummary_plotを確認します。これは特徴量を少し変化させた時の学習のインパクトを表しています。"
      ],
      "metadata": {
        "id": "SBZNRFFlmnxP"
      }
    },
    {
      "cell_type": "code",
      "execution_count": null,
      "metadata": {
        "id": "nCAPQ8_ufuuU",
        "pycharm": {
          "name": "#%%\n"
        }
      },
      "outputs": [],
      "source": [
        "shap.summary_plot(shap_values, train_X_code_int)"
      ]
    },
    {
      "cell_type": "markdown",
      "source": [
        "この図の見方ですが、上にある特徴量ほどモデルにとって重要であることを意味します。  \n",
        "色が赤いのがその特徴量が高い時、青いのがその特徴量が低い時のSHAP値になります。  \n",
        "図からは例えば以下のようなことが読み取れます。\n",
        "\n",
        "NetAssetsとTotalAssetsがモデルに影響を与える特徴量であることがわかります。  \n",
        "特にプラス方向に青い色が多いので、これらの値が小さい場合にこの特徴量をプラスに活用していることがわかります。 \n",
        "\n",
        "さらにvolatility_1monthやvolatility_3monthがモデルに大きな影響を与える特徴量であることがわかります。  \n",
        "この特徴量は赤い時にプラス方向(高値が大きくなる)の影響が大きいことがわかります。\n",
        "これはボラティリティが上昇すると高値が高くなるということを意味するので直感に合致します。\n",
        "\n",
        "MA_gap_1_month が小さい時にプラス方向(高値が大きくなる)に影響を与えています。移動平均乖離率が小さいときは移動平均線がその時点の株価よりも下にいる期間なので、その時に高値が伸びるのは株価が反転している可能性が高いのかもしれません。\n",
        "\n",
        "上記のような考察を行いながら、さまざまな特徴量を考え、モデルを改善していくことが重要です。"
      ],
      "metadata": {
        "id": "XALr0A7OnFE7"
      }
    },
    {
      "cell_type": "markdown",
      "metadata": {
        "collapsed": false,
        "id": "hoMJR0BJfuuU",
        "pycharm": {
          "name": "#%% md\n"
        }
      },
      "source": [
        "### Check all the patterns\n",
        "\n",
        "ここでは、複数モデルを用いて、予測及び結果の比較を行いたいと思います。\n",
        "今回はシンプルなモデルを複数用います。\n",
        "\n",
        "|モデル名|パラメータ|\n",
        "|-|-|\n",
        "|RandomForestRegressor|random_state = 0|\n",
        "|ExtraTreesRegressor|random_state = 0|\n",
        "|GradientBoostingRegressor|random_state = 0|\n",
        "\n",
        "次は学習用のデータセットも複数用意します。\n",
        "\n",
        "|モデル名|パラメータ|\n",
        "|-|-|\n",
        "|fundamental_only|財務諸表データのみ|\n",
        "|return_only|価格変化率のデータのみ|\n",
        "|technical_only|テクニカル指標のみ|\n",
        "|fundamental+technical|財務諸表とテクニカル指標の両方|\n",
        "\n",
        "#### Chapter 2.12.1\n"
      ]
    },
    {
      "cell_type": "code",
      "execution_count": null,
      "metadata": {
        "id": "seWI_nCKfuuU",
        "pycharm": {
          "name": "#%%\n"
        }
      },
      "outputs": [],
      "source": [
        "# モデルを定義\n",
        "models = {\n",
        "    \"rf\": RandomForestRegressor,\n",
        "    \"extraTree\": ExtraTreesRegressor,\n",
        "    \"gbr\": GradientBoostingRegressor,\n",
        "}\n",
        "\n",
        "# 学習用データセット定義\n",
        "columns = {\n",
        "    \"fundamental_only\": fundamental_cols,\n",
        "    \"return_only\": returns_cols,\n",
        "    \"technical_only\": technical_cols,\n",
        "    \"fundamental+technical\": list(fundamental_cols) + list(technical_cols),\n",
        "}\n",
        "\n",
        "# 学習済みモデル保存用\n",
        "trained_models = dict()\n",
        "# 結果保存用\n",
        "all_results = dict()\n",
        "# モデル毎に処理\n",
        "for model in tqdm(models.keys()):\n",
        "    all_results[model] = dict()\n",
        "    trained_models[model] = dict()\n",
        "    # データセット毎に処理\n",
        "    for col in tqdm(columns.keys()):\n",
        "        result = dict()\n",
        "        trained_models[model][col] = dict()\n",
        "        # 目的変数毎に処理\n",
        "        for label in tqdm(labels):\n",
        "            if len(test_X[label][columns[col]]) > 0:\n",
        "                # モデル取得\n",
        "                pred_model = models[model](random_state=0)\n",
        "                # 学習\n",
        "                pred_model.fit(train_X[label][columns[col]], train_y[label])\n",
        "                # 学習済みモデル保存\n",
        "                trained_models[model][col][label] = pred_model\n",
        "                # 結果データ作成\n",
        "                result[label] = test_X[label][[\"code\"]].copy()\n",
        "                result[label][\"datetime\"] = test_X[label][columns[col]].index\n",
        "                # 予測\n",
        "                result[label][\"predict\"] = pred_model.predict(test_X[label][columns[col]])\n",
        "                result[label][\"predict_dir\"] = np.sign(result[label][\"predict\"])\n",
        "                # 実際の結果\n",
        "                result[label][\"actual\"] = test_y[label].values\n",
        "                result[label][\"actual_dir\"] = np.sign(result[label][\"actual\"])\n",
        "                result[label].dropna(inplace=True)\n",
        "\n",
        "        all_results[model][col] = result"
      ]
    },
    {
      "cell_type": "code",
      "execution_count": null,
      "metadata": {
        "id": "tQH7KRAsfuuU",
        "pycharm": {
          "name": "#%%\n"
        }
      },
      "outputs": [],
      "source": [
        "results = []\n",
        "for model in all_results.keys():\n",
        "    for col in all_results[model]:\n",
        "        tmp = pd.concat(all_results[model][col])\n",
        "        tmp[\"model\"] = model\n",
        "        tmp[\"feature\"] = col\n",
        "        results.append(tmp)\n",
        "results = pd.concat(results)\n",
        "results[\"label\"] = [x[0] for x in results.index]\n",
        "results[\"id\"] = results[\"code\"].astype(str)+results[\"datetime\"].dt.strftime('%Y%m%d')\n",
        "results.head(5)"
      ]
    },
    {
      "cell_type": "markdown",
      "metadata": {
        "collapsed": false,
        "id": "89Nx3s2FfuuU",
        "pycharm": {
          "name": "#%% md\n"
        }
      },
      "source": [
        "#### Chapter2.12.2\n",
        "\n",
        "まずは、今回用いる評価関数のリストを紹介します。\n",
        "\n",
        "|||\n",
        "|-|-|\n",
        "|RMSE|二乗平均平方根|\n",
        "|accuracy|目的変数の符号と予測した目的変数の符号の精度|\n",
        "|spearman_corr|スピアマンの順位相関|\n",
        "|corr|ピアソンの相関係数|\n",
        "|R^2 score|単回帰した時の直線と観測値のバラつき|\n"
      ]
    },
    {
      "cell_type": "code",
      "execution_count": null,
      "metadata": {
        "id": "NWvdLSayfuuU",
        "pycharm": {
          "name": "#%%\n"
        }
      },
      "outputs": [],
      "source": [
        "all_metrics = []\n",
        "\n",
        "for feature in columns:\n",
        "    matrix = dict()\n",
        "    for model in models:\n",
        "        for label in labels:\n",
        "            tmp_df = results[(results[\"model\"] == model) & (results[\"label\"] == label) & (results[\"feature\"] == feature)]\n",
        "            rmse = np.sqrt(mean_squared_error(tmp_df[\"predict\"], tmp_df[\"actual\"]))\n",
        "            accuracy = accuracy_score(tmp_df[\"predict_dir\"], tmp_df[\"actual_dir\"])\n",
        "            corr = np.corrcoef(tmp_df[\"actual\"], tmp_df[\"predict\"])[0, 1]\n",
        "            spearman_corr = spearmanr(tmp_df[\"actual\"], tmp_df[\"predict\"])[0]\n",
        "            matrix[label] = [rmse, accuracy, spearman_corr,corr, corr**2, feature, model, tmp_df.shape[0]]\n",
        "        res = pd.DataFrame.from_dict(matrix).T\n",
        "        res.columns = [\"RMSE\",\"accuracy\",\"spearman_corr\",\"corr\",\"R^2 score\",\"feature\", \"model\", \"# of samples\"]\n",
        "        all_metrics.append(res)\n",
        "all_metrics = pd.concat(all_metrics)\n",
        "all_metrics.reset_index()"
      ]
    },
    {
      "cell_type": "code",
      "execution_count": null,
      "metadata": {
        "id": "R4femAS5fuuU",
        "pycharm": {
          "name": "#%%\n"
        }
      },
      "outputs": [],
      "source": [
        "numeric_cols = [\"RMSE\",\"accuracy\",\"spearman_corr\",\"corr\",\"R^2 score\"]\n",
        "for col in numeric_cols:\n",
        "    all_metrics[col] = all_metrics[col].astype(float)\n",
        "agg = all_metrics.reset_index().groupby([\"index\",\"feature\"]).agg(\"mean\")\n",
        "agg"
      ]
    },
    {
      "cell_type": "markdown",
      "source": [
        "この表のテクニカル分析（technical_only）とファンダメンタルデータ（fundamental_only）にそれぞれ着目すると、  \n",
        "高値の予測の場合には、テクニカル分析のみを用いた特徴量の方が、ファンダメンタルデータよりも精度（accuracy）という観点で若干優れていることが分かります。  \n",
        "逆に安値の予測の場合には、ファンダメンタルデータのみを用いた特徴量の方が若干優れています。  \n",
        "\n",
        "また、テクニカル分析とファンダメンタルデータの両方を特徴量を用いた場合の結果に関しては、テクニカル分析よりも若干全体正解率が高くなっていますが、誤差の範囲内です。相関係数（corr）に関し、テクニカル分析とファンダメンタルデータを両方用いた場合は、用いていない場合に比べて、優れていることが分かります。\n",
        "\n",
        "このように特徴量を選択しながら複数のモデルをつくり、複数の評価関数で評価を行うことで、テクニカル分析とファンダメンタルデータを組み合わせたアプローチのポテンシャルが高いことがわかります。"
      ],
      "metadata": {
        "id": "qrOgV7NxTjx9"
      }
    },
    {
      "cell_type": "markdown",
      "metadata": {
        "collapsed": false,
        "id": "K2gTVheZfuuU",
        "pycharm": {
          "name": "#%% md\n"
        }
      },
      "source": [
        "### Submit Model"
      ]
    },
    {
      "cell_type": "markdown",
      "metadata": {
        "id": "Ot_hLorFUY3x"
      },
      "source": [
        "本ノートブックでは、コンペ開催中に必要であったモデルの保存とサブミット用パッケージの作成は実施いたしません。"
      ]
    },
    {
      "cell_type": "code",
      "execution_count": null,
      "metadata": {
        "id": "UGwFnlZ5fuuU",
        "pycharm": {
          "name": "#%%\n"
        }
      },
      "outputs": [],
      "source": [
        "# # モデル保存用にメソッドを定義します\n",
        "# def save_model(model, label, model_path=\"../model\"):\n",
        "#     # モデル保存先ディレクトリを作成\n",
        "#     os.makedirs(model_path, exist_ok=True)\n",
        "#     with open(os.path.join(model_path, f\"my_model_{label}.pkl\"), \"wb\") as f:\n",
        "#         # モデルをpickle形式で保存\n",
        "#         pickle.dump(model, f)"
      ]
    },
    {
      "cell_type": "code",
      "execution_count": null,
      "metadata": {
        "id": "X_T3cv70fuuU",
        "pycharm": {
          "name": "#%%\n"
        }
      },
      "outputs": [],
      "source": [
        "# # 保存した学習済みモデルから、提出するモデルを選択してpickle形式で保存します。\n",
        "# # 使用するモデルや特徴量を変更する際は、学習時と推論時で同一の特徴量をモデルに\n",
        "# # 入力するために提出用のpredictor.pyについても変更する必要があることにご注意ください。\n",
        "\n",
        "# # モデルの保存先を指定します。\n",
        "# model_path = f\"{STORAGE_DIR_PATH}/model\"\n",
        "# # モデルの種類\n",
        "# models = [\"rf\"]\n",
        "# # 使用する特徴量カラム\n",
        "# columns = [\"fundamental+technical\"]\n",
        "# # 目的変数\n",
        "# labels = [\n",
        "#     \"label_high_20\",\n",
        "#     \"label_low_20\",\n",
        "# ]\n",
        "\n",
        "# # モデル毎に処理\n",
        "# for model in models:\n",
        "#     # 特徴量毎に処理\n",
        "#     for col in columns:\n",
        "#         # 目的変数毎に処理\n",
        "#         for label in labels:\n",
        "#             # 学習済みモデルを取得\n",
        "#             pred_model = trained_models[model][col][label]\n",
        "#             # モデルを保存\n",
        "#             save_model(pred_model, label, model_path=model_path)"
      ]
    },
    {
      "cell_type": "markdown",
      "metadata": {
        "id": "qEFZgbvsiziQ",
        "pycharm": {
          "name": "#%% md\n"
        }
      },
      "source": [
        "これでこちらのチュートリアル、ならびにこのノートブックは終了になります。\n",
        "お疲れ様でした！"
      ]
    }
  ],
  "metadata": {
    "colab": {
      "provenance": [],
      "collapsed_sections": [
        "3CyAgtw7GJvc",
        "_HNw7eBtrwg2",
        "fDOGpXxfFCF7",
        "RdoMh3FnftVU",
        "-vyZWqlwfuuR",
        "wzS4qA4JJ1F1",
        "A_Nz5gokfuuR",
        "-5nd62ecoPps",
        "DD0o0YgHfuuS",
        "A9FdAVFnfuuS",
        "ALuofUJKfuuS",
        "gtQRETmffuuS",
        "A2UdXCkJfuuS",
        "aBXH116sfuuS",
        "3j7IgVsbfuuS",
        "NAFx1BiIfuuT",
        "J8Sx0PiefuuT",
        "OTdK8QewfuuT",
        "0FO4fZEufuuT",
        "OW05nbdWfuuT",
        "HPMqw2nJfuuT",
        "5eF1-TVqfuuU",
        "PnCqTgm3fuuU",
        "hoMJR0BJfuuU",
        "89Nx3s2FfuuU",
        "K2gTVheZfuuU"
      ]
    },
    "kernelspec": {
      "display_name": "Python 3",
      "language": "python",
      "name": "python3"
    },
    "language_info": {
      "codemirror_mode": {
        "name": "ipython",
        "version": 2
      },
      "file_extension": ".py",
      "mimetype": "text/x-python",
      "name": "python",
      "nbconvert_exporter": "python",
      "pygments_lexer": "ipython2",
      "version": "2.7.6"
    }
  },
  "nbformat": 4,
  "nbformat_minor": 0
}